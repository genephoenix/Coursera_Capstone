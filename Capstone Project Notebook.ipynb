{
    "cells": [
        {
            "cell_type": "markdown",
            "metadata": {
                "collapsed": true
            },
            "source": "# Predicting the optimal placement of a hospital in a Toronto neighbourhood"
        },
        {
            "cell_type": "markdown",
            "metadata": {},
            "source": "## Table of Contents    \n  * [Introduction: Business Problem](#intro)\n  * [Data](#data)"
        },
        {
            "cell_type": "markdown",
            "metadata": {},
            "source": "## Introduction: Business Problem <a id=\"intro\"></a>"
        },
        {
            "cell_type": "markdown",
            "metadata": {},
            "source": "<p> \n    For this project we will be trying to determine the best possible location to open an additional medical centre/ hospital in the city of Toronto. Many a time one might hear news about how there may not be enough space at a hospital for all the patients needing help and when there comes a time like an epidemic or a pandemic (as is the current state of things in the world), this is especially the case. \n\n</p>\n    \n<p>    \n    This report will be of interest to the board of directors and stakeholders of the hospital in question as well as the city of Toronto staff who would help oversee its development. \n    \n</p>\n\n<p>\n    Our aim is to look for populated areas in neighbourhoods where there appears to be more young children and elderly present. Once those neighbourhoods have been found, we will then search the surrounding area for any other such health centres in the vicinity as we would like to construct the hospital in a distance far enough away from the others in an area where it would be most needed.\n    \n<p>\n\n<p>\n    Using this criteria and our purpose along with relevant data to provide support, we aim to share our findings and reasonings for our choices with the city of Toronto staff, hospital board of directors, and stakeholders, on where we would advise them to construct the health centre.\n    \n</p>"
        },
        {
            "cell_type": "markdown",
            "metadata": {},
            "source": "## Data <a id=\"data\"></a>"
        },
        {
            "cell_type": "markdown",
            "metadata": {},
            "source": "<p> \n    As mentioned above in the business problem, the factors that will influence our decision are:\n</p>\n      \n  * The number of hospitals/ health centres in the area\n  * The number of people in the area\n  * Ages of the constituents of the neighbourhood\n\n<p> We will be using the following data sources for our analysis:</p>\n\n  * **[Toronto neighbourhoods data](https://open.toronto.ca/dataset/neighbourhoods/)** - *Attribution: [Open Data Licence - Toronto](https://open.toronto.ca/open-data-license/); Contains information licensed under the Open Government Licence \u2013 Toronto* \n\n<p>This csv dataset will be used to obtain the initial neighbourhood profiles and their geographical coordinates using the area_name, longitude and latitude columns. </p>\n\n  * **[Toronto neighbourhood profiles data](https://open.toronto.ca/dataset/neighbourhood-profiles/)** - *Attribution: [Open Data Licence - Toronto](https://open.toronto.ca/open-data-license/); Contains information licensed under the Open Government Licence \u2013 Toronto*\n  \n<p>This source will be used to determine the age of the constituents in their respective neighbourhoods. In our case, we will be finding and using the appropriate rows with the population age characteristics data for seniors and children. Using the csv dataset we will also locate the number code for each neighbourhood and match it to the relevant area code column of the previous dataset in order to connect the data.  </p>\n\n  * **[Foursquare API](https://developer.foursquare.com/docs/)** \n\n<p>This API will be used to determine the location and number of hospitals in the Toronto area. We will then proceed to visualize this data through a map using Folium so we can see where the hospitals are situated and their distances from one another.</p>\n"
        },
        {
            "cell_type": "code",
            "execution_count": null,
            "metadata": {},
            "outputs": [],
            "source": ""
        },
        {
            "cell_type": "markdown",
            "metadata": {},
            "source": "### Import libraries"
        },
        {
            "cell_type": "code",
            "execution_count": 1,
            "metadata": {},
            "outputs": [
                {
                    "name": "stdout",
                    "output_type": "stream",
                    "text": "Requirement already satisfied: geopy in /opt/conda/envs/Python36/lib/python3.6/site-packages (1.18.1)\nRequirement already satisfied: geographiclib<2,>=1.49 in /opt/conda/envs/Python36/lib/python3.6/site-packages (from geopy) (1.49)\nRequirement already satisfied: folium in /opt/conda/envs/Python36/lib/python3.6/site-packages (0.10.1)\nRequirement already satisfied: jinja2>=2.9 in /opt/conda/envs/Python36/lib/python3.6/site-packages (from folium) (2.10)\nRequirement already satisfied: requests in /opt/conda/envs/Python36/lib/python3.6/site-packages (from folium) (2.21.0)\nRequirement already satisfied: branca>=0.3.0 in /opt/conda/envs/Python36/lib/python3.6/site-packages (from folium) (0.4.0)\nRequirement already satisfied: numpy in /opt/conda/envs/Python36/lib/python3.6/site-packages (from folium) (1.15.4)\nRequirement already satisfied: MarkupSafe>=0.23 in /opt/conda/envs/Python36/lib/python3.6/site-packages (from jinja2>=2.9->folium) (1.1.0)\nRequirement already satisfied: urllib3<1.25,>=1.21.1 in /opt/conda/envs/Python36/lib/python3.6/site-packages (from requests->folium) (1.24.1)\nRequirement already satisfied: idna<2.9,>=2.5 in /opt/conda/envs/Python36/lib/python3.6/site-packages (from requests->folium) (2.8)\nRequirement already satisfied: certifi>=2017.4.17 in /opt/conda/envs/Python36/lib/python3.6/site-packages (from requests->folium) (2019.11.28)\nRequirement already satisfied: chardet<3.1.0,>=3.0.2 in /opt/conda/envs/Python36/lib/python3.6/site-packages (from requests->folium) (3.0.4)\nRequirement already satisfied: six in /opt/conda/envs/Python36/lib/python3.6/site-packages (from branca>=0.3.0->folium) (1.12.0)\n"
                }
            ],
            "source": "import pandas as pd\nimport numpy as np\n\n!pip install geopy\nfrom geopy.geocoders import Nominatim\n\n#Matplotlib\nimport matplotlib.cm as cm\nimport matplotlib.colors as colors\n\n#K-means from clustering stage\nfrom sklearn.cluster import KMeans\n\n#folium\n!pip install folium\nimport folium"
        },
        {
            "cell_type": "markdown",
            "metadata": {},
            "source": "### Get csv data files to work with "
        },
        {
            "cell_type": "code",
            "execution_count": 2,
            "metadata": {},
            "outputs": [
                {
                    "data": {
                        "text/html": "<div>\n<style scoped>\n    .dataframe tbody tr th:only-of-type {\n        vertical-align: middle;\n    }\n\n    .dataframe tbody tr th {\n        vertical-align: top;\n    }\n\n    .dataframe thead th {\n        text-align: right;\n    }\n</style>\n<table border=\"1\" class=\"dataframe\">\n  <thead>\n    <tr style=\"text-align: right;\">\n      <th></th>\n      <th>_id</th>\n      <th>AREA_ID</th>\n      <th>AREA_ATTR_ID</th>\n      <th>PARENT_AREA_ID</th>\n      <th>AREA_SHORT_CODE</th>\n      <th>AREA_LONG_CODE</th>\n      <th>AREA_NAME</th>\n      <th>AREA_DESC</th>\n      <th>X</th>\n      <th>Y</th>\n      <th>LONGITUDE</th>\n      <th>LATITUDE</th>\n      <th>OBJECTID</th>\n      <th>Shape__Area</th>\n      <th>Shape__Length</th>\n      <th>geometry</th>\n    </tr>\n  </thead>\n  <tbody>\n    <tr>\n      <th>0</th>\n      <td>4341</td>\n      <td>25886861</td>\n      <td>25926662</td>\n      <td>49885</td>\n      <td>94</td>\n      <td>94</td>\n      <td>Wychwood (94)</td>\n      <td>Wychwood (94)</td>\n      <td>NaN</td>\n      <td>NaN</td>\n      <td>-79.425515</td>\n      <td>43.676919</td>\n      <td>16491505</td>\n      <td>3.217960e+06</td>\n      <td>7515.779658</td>\n      <td>{u'type': u'Polygon', u'coordinates': (((-79.4...</td>\n    </tr>\n    <tr>\n      <th>1</th>\n      <td>4342</td>\n      <td>25886820</td>\n      <td>25926663</td>\n      <td>49885</td>\n      <td>100</td>\n      <td>100</td>\n      <td>Yonge-Eglinton (100)</td>\n      <td>Yonge-Eglinton (100)</td>\n      <td>NaN</td>\n      <td>NaN</td>\n      <td>-79.403590</td>\n      <td>43.704689</td>\n      <td>16491521</td>\n      <td>3.160334e+06</td>\n      <td>7872.021074</td>\n      <td>{u'type': u'Polygon', u'coordinates': (((-79.4...</td>\n    </tr>\n    <tr>\n      <th>2</th>\n      <td>4343</td>\n      <td>25886834</td>\n      <td>25926664</td>\n      <td>49885</td>\n      <td>97</td>\n      <td>97</td>\n      <td>Yonge-St.Clair (97)</td>\n      <td>Yonge-St.Clair (97)</td>\n      <td>NaN</td>\n      <td>NaN</td>\n      <td>-79.397871</td>\n      <td>43.687859</td>\n      <td>16491537</td>\n      <td>2.222464e+06</td>\n      <td>8130.411276</td>\n      <td>{u'type': u'Polygon', u'coordinates': (((-79.3...</td>\n    </tr>\n    <tr>\n      <th>3</th>\n      <td>4344</td>\n      <td>25886593</td>\n      <td>25926665</td>\n      <td>49885</td>\n      <td>27</td>\n      <td>27</td>\n      <td>York University Heights (27)</td>\n      <td>York University Heights (27)</td>\n      <td>NaN</td>\n      <td>NaN</td>\n      <td>-79.488883</td>\n      <td>43.765736</td>\n      <td>16491553</td>\n      <td>2.541821e+07</td>\n      <td>25632.335242</td>\n      <td>{u'type': u'Polygon', u'coordinates': (((-79.5...</td>\n    </tr>\n    <tr>\n      <th>4</th>\n      <td>4345</td>\n      <td>25886688</td>\n      <td>25926666</td>\n      <td>49885</td>\n      <td>31</td>\n      <td>31</td>\n      <td>Yorkdale-Glen Park (31)</td>\n      <td>Yorkdale-Glen Park (31)</td>\n      <td>NaN</td>\n      <td>NaN</td>\n      <td>-79.457108</td>\n      <td>43.714672</td>\n      <td>16491569</td>\n      <td>1.156669e+07</td>\n      <td>13953.408098</td>\n      <td>{u'type': u'Polygon', u'coordinates': (((-79.4...</td>\n    </tr>\n  </tbody>\n</table>\n</div>",
                        "text/plain": "    _id   AREA_ID  AREA_ATTR_ID  PARENT_AREA_ID  AREA_SHORT_CODE  \\\n0  4341  25886861      25926662           49885               94   \n1  4342  25886820      25926663           49885              100   \n2  4343  25886834      25926664           49885               97   \n3  4344  25886593      25926665           49885               27   \n4  4345  25886688      25926666           49885               31   \n\n   AREA_LONG_CODE                     AREA_NAME                     AREA_DESC  \\\n0              94                 Wychwood (94)                 Wychwood (94)   \n1             100          Yonge-Eglinton (100)          Yonge-Eglinton (100)   \n2              97           Yonge-St.Clair (97)           Yonge-St.Clair (97)   \n3              27  York University Heights (27)  York University Heights (27)   \n4              31       Yorkdale-Glen Park (31)       Yorkdale-Glen Park (31)   \n\n    X   Y  LONGITUDE   LATITUDE  OBJECTID   Shape__Area  Shape__Length  \\\n0 NaN NaN -79.425515  43.676919  16491505  3.217960e+06    7515.779658   \n1 NaN NaN -79.403590  43.704689  16491521  3.160334e+06    7872.021074   \n2 NaN NaN -79.397871  43.687859  16491537  2.222464e+06    8130.411276   \n3 NaN NaN -79.488883  43.765736  16491553  2.541821e+07   25632.335242   \n4 NaN NaN -79.457108  43.714672  16491569  1.156669e+07   13953.408098   \n\n                                            geometry  \n0  {u'type': u'Polygon', u'coordinates': (((-79.4...  \n1  {u'type': u'Polygon', u'coordinates': (((-79.4...  \n2  {u'type': u'Polygon', u'coordinates': (((-79.3...  \n3  {u'type': u'Polygon', u'coordinates': (((-79.5...  \n4  {u'type': u'Polygon', u'coordinates': (((-79.4...  "
                    },
                    "execution_count": 2,
                    "metadata": {},
                    "output_type": "execute_result"
                }
            ],
            "source": "# The code was removed by Watson Studio for sharing."
        },
        {
            "cell_type": "code",
            "execution_count": 3,
            "metadata": {},
            "outputs": [
                {
                    "data": {
                        "text/html": "<div>\n<style scoped>\n    .dataframe tbody tr th:only-of-type {\n        vertical-align: middle;\n    }\n\n    .dataframe tbody tr th {\n        vertical-align: top;\n    }\n\n    .dataframe thead th {\n        text-align: right;\n    }\n</style>\n<table border=\"1\" class=\"dataframe\">\n  <thead>\n    <tr style=\"text-align: right;\">\n      <th></th>\n      <th>_id</th>\n      <th>Category</th>\n      <th>Topic</th>\n      <th>Data Source</th>\n      <th>Characteristic</th>\n      <th>City of Toronto</th>\n      <th>Agincourt North</th>\n      <th>Agincourt South-Malvern West</th>\n      <th>Alderwood</th>\n      <th>Annex</th>\n      <th>...</th>\n      <th>Willowdale West</th>\n      <th>Willowridge-Martingrove-Richview</th>\n      <th>Woburn</th>\n      <th>Woodbine Corridor</th>\n      <th>Woodbine-Lumsden</th>\n      <th>Wychwood</th>\n      <th>Yonge-Eglinton</th>\n      <th>Yonge-St.Clair</th>\n      <th>York University Heights</th>\n      <th>Yorkdale-Glen Park</th>\n    </tr>\n  </thead>\n  <tbody>\n    <tr>\n      <th>0</th>\n      <td>1</td>\n      <td>Neighbourhood Information</td>\n      <td>Neighbourhood Information</td>\n      <td>City of Toronto</td>\n      <td>Neighbourhood Number</td>\n      <td>NaN</td>\n      <td>129</td>\n      <td>128</td>\n      <td>20</td>\n      <td>95</td>\n      <td>...</td>\n      <td>37</td>\n      <td>7</td>\n      <td>137</td>\n      <td>64</td>\n      <td>60</td>\n      <td>94</td>\n      <td>100</td>\n      <td>97</td>\n      <td>27</td>\n      <td>31</td>\n    </tr>\n    <tr>\n      <th>1</th>\n      <td>2</td>\n      <td>Neighbourhood Information</td>\n      <td>Neighbourhood Information</td>\n      <td>City of Toronto</td>\n      <td>TSNS2020 Designation</td>\n      <td>NaN</td>\n      <td>No Designation</td>\n      <td>No Designation</td>\n      <td>No Designation</td>\n      <td>No Designation</td>\n      <td>...</td>\n      <td>No Designation</td>\n      <td>No Designation</td>\n      <td>NIA</td>\n      <td>No Designation</td>\n      <td>No Designation</td>\n      <td>No Designation</td>\n      <td>No Designation</td>\n      <td>No Designation</td>\n      <td>NIA</td>\n      <td>Emerging Neighbourhood</td>\n    </tr>\n    <tr>\n      <th>2</th>\n      <td>3</td>\n      <td>Population</td>\n      <td>Population and dwellings</td>\n      <td>Census Profile 98-316-X2016001</td>\n      <td>Population, 2016</td>\n      <td>2,731,571</td>\n      <td>29,113</td>\n      <td>23,757</td>\n      <td>12,054</td>\n      <td>30,526</td>\n      <td>...</td>\n      <td>16,936</td>\n      <td>22,156</td>\n      <td>53,485</td>\n      <td>12,541</td>\n      <td>7,865</td>\n      <td>14,349</td>\n      <td>11,817</td>\n      <td>12,528</td>\n      <td>27,593</td>\n      <td>14,804</td>\n    </tr>\n    <tr>\n      <th>3</th>\n      <td>4</td>\n      <td>Population</td>\n      <td>Population and dwellings</td>\n      <td>Census Profile 98-316-X2016001</td>\n      <td>Population, 2011</td>\n      <td>2,615,060</td>\n      <td>30,279</td>\n      <td>21,988</td>\n      <td>11,904</td>\n      <td>29,177</td>\n      <td>...</td>\n      <td>15,004</td>\n      <td>21,343</td>\n      <td>53,350</td>\n      <td>11,703</td>\n      <td>7,826</td>\n      <td>13,986</td>\n      <td>10,578</td>\n      <td>11,652</td>\n      <td>27,713</td>\n      <td>14,687</td>\n    </tr>\n    <tr>\n      <th>4</th>\n      <td>5</td>\n      <td>Population</td>\n      <td>Population and dwellings</td>\n      <td>Census Profile 98-316-X2016001</td>\n      <td>Population Change 2011-2016</td>\n      <td>4.50%</td>\n      <td>-3.90%</td>\n      <td>8.00%</td>\n      <td>1.30%</td>\n      <td>4.60%</td>\n      <td>...</td>\n      <td>12.90%</td>\n      <td>3.80%</td>\n      <td>0.30%</td>\n      <td>7.20%</td>\n      <td>0.50%</td>\n      <td>2.60%</td>\n      <td>11.70%</td>\n      <td>7.50%</td>\n      <td>-0.40%</td>\n      <td>0.80%</td>\n    </tr>\n  </tbody>\n</table>\n<p>5 rows \u00d7 146 columns</p>\n</div>",
                        "text/plain": "   _id                   Category                      Topic  \\\n0    1  Neighbourhood Information  Neighbourhood Information   \n1    2  Neighbourhood Information  Neighbourhood Information   \n2    3                 Population   Population and dwellings   \n3    4                 Population   Population and dwellings   \n4    5                 Population   Population and dwellings   \n\n                      Data Source               Characteristic  \\\n0                 City of Toronto         Neighbourhood Number   \n1                 City of Toronto         TSNS2020 Designation   \n2  Census Profile 98-316-X2016001             Population, 2016   \n3  Census Profile 98-316-X2016001             Population, 2011   \n4  Census Profile 98-316-X2016001  Population Change 2011-2016   \n\n  City of Toronto Agincourt North Agincourt South-Malvern West  \\\n0             NaN             129                          128   \n1             NaN  No Designation               No Designation   \n2       2,731,571          29,113                       23,757   \n3       2,615,060          30,279                       21,988   \n4           4.50%          -3.90%                        8.00%   \n\n        Alderwood           Annex  ... Willowdale West  \\\n0              20              95  ...              37   \n1  No Designation  No Designation  ...  No Designation   \n2          12,054          30,526  ...          16,936   \n3          11,904          29,177  ...          15,004   \n4           1.30%           4.60%  ...          12.90%   \n\n  Willowridge-Martingrove-Richview  Woburn Woodbine Corridor Woodbine-Lumsden  \\\n0                                7     137                64               60   \n1                   No Designation     NIA    No Designation   No Designation   \n2                           22,156  53,485            12,541            7,865   \n3                           21,343  53,350            11,703            7,826   \n4                            3.80%   0.30%             7.20%            0.50%   \n\n         Wychwood  Yonge-Eglinton  Yonge-St.Clair York University Heights  \\\n0              94             100              97                      27   \n1  No Designation  No Designation  No Designation                     NIA   \n2          14,349          11,817          12,528                  27,593   \n3          13,986          10,578          11,652                  27,713   \n4           2.60%          11.70%           7.50%                  -0.40%   \n\n       Yorkdale-Glen Park  \n0                      31  \n1  Emerging Neighbourhood  \n2                  14,804  \n3                  14,687  \n4                   0.80%  \n\n[5 rows x 146 columns]"
                    },
                    "execution_count": 3,
                    "metadata": {},
                    "output_type": "execute_result"
                }
            ],
            "source": "# The code was removed by Watson Studio for sharing."
        },
        {
            "cell_type": "markdown",
            "metadata": {},
            "source": "### Rename dataframes"
        },
        {
            "cell_type": "code",
            "execution_count": 4,
            "metadata": {},
            "outputs": [
                {
                    "data": {
                        "text/html": "<div>\n<style scoped>\n    .dataframe tbody tr th:only-of-type {\n        vertical-align: middle;\n    }\n\n    .dataframe tbody tr th {\n        vertical-align: top;\n    }\n\n    .dataframe thead th {\n        text-align: right;\n    }\n</style>\n<table border=\"1\" class=\"dataframe\">\n  <thead>\n    <tr style=\"text-align: right;\">\n      <th></th>\n      <th>_id</th>\n      <th>AREA_ID</th>\n      <th>AREA_ATTR_ID</th>\n      <th>PARENT_AREA_ID</th>\n      <th>AREA_SHORT_CODE</th>\n      <th>AREA_LONG_CODE</th>\n      <th>AREA_NAME</th>\n      <th>AREA_DESC</th>\n      <th>X</th>\n      <th>Y</th>\n      <th>LONGITUDE</th>\n      <th>LATITUDE</th>\n      <th>OBJECTID</th>\n      <th>Shape__Area</th>\n      <th>Shape__Length</th>\n      <th>geometry</th>\n    </tr>\n  </thead>\n  <tbody>\n    <tr>\n      <th>0</th>\n      <td>4341</td>\n      <td>25886861</td>\n      <td>25926662</td>\n      <td>49885</td>\n      <td>94</td>\n      <td>94</td>\n      <td>Wychwood (94)</td>\n      <td>Wychwood (94)</td>\n      <td>NaN</td>\n      <td>NaN</td>\n      <td>-79.425515</td>\n      <td>43.676919</td>\n      <td>16491505</td>\n      <td>3.217960e+06</td>\n      <td>7515.779658</td>\n      <td>{u'type': u'Polygon', u'coordinates': (((-79.4...</td>\n    </tr>\n    <tr>\n      <th>1</th>\n      <td>4342</td>\n      <td>25886820</td>\n      <td>25926663</td>\n      <td>49885</td>\n      <td>100</td>\n      <td>100</td>\n      <td>Yonge-Eglinton (100)</td>\n      <td>Yonge-Eglinton (100)</td>\n      <td>NaN</td>\n      <td>NaN</td>\n      <td>-79.403590</td>\n      <td>43.704689</td>\n      <td>16491521</td>\n      <td>3.160334e+06</td>\n      <td>7872.021074</td>\n      <td>{u'type': u'Polygon', u'coordinates': (((-79.4...</td>\n    </tr>\n    <tr>\n      <th>2</th>\n      <td>4343</td>\n      <td>25886834</td>\n      <td>25926664</td>\n      <td>49885</td>\n      <td>97</td>\n      <td>97</td>\n      <td>Yonge-St.Clair (97)</td>\n      <td>Yonge-St.Clair (97)</td>\n      <td>NaN</td>\n      <td>NaN</td>\n      <td>-79.397871</td>\n      <td>43.687859</td>\n      <td>16491537</td>\n      <td>2.222464e+06</td>\n      <td>8130.411276</td>\n      <td>{u'type': u'Polygon', u'coordinates': (((-79.3...</td>\n    </tr>\n    <tr>\n      <th>3</th>\n      <td>4344</td>\n      <td>25886593</td>\n      <td>25926665</td>\n      <td>49885</td>\n      <td>27</td>\n      <td>27</td>\n      <td>York University Heights (27)</td>\n      <td>York University Heights (27)</td>\n      <td>NaN</td>\n      <td>NaN</td>\n      <td>-79.488883</td>\n      <td>43.765736</td>\n      <td>16491553</td>\n      <td>2.541821e+07</td>\n      <td>25632.335242</td>\n      <td>{u'type': u'Polygon', u'coordinates': (((-79.5...</td>\n    </tr>\n    <tr>\n      <th>4</th>\n      <td>4345</td>\n      <td>25886688</td>\n      <td>25926666</td>\n      <td>49885</td>\n      <td>31</td>\n      <td>31</td>\n      <td>Yorkdale-Glen Park (31)</td>\n      <td>Yorkdale-Glen Park (31)</td>\n      <td>NaN</td>\n      <td>NaN</td>\n      <td>-79.457108</td>\n      <td>43.714672</td>\n      <td>16491569</td>\n      <td>1.156669e+07</td>\n      <td>13953.408098</td>\n      <td>{u'type': u'Polygon', u'coordinates': (((-79.4...</td>\n    </tr>\n  </tbody>\n</table>\n</div>",
                        "text/plain": "    _id   AREA_ID  AREA_ATTR_ID  PARENT_AREA_ID  AREA_SHORT_CODE  \\\n0  4341  25886861      25926662           49885               94   \n1  4342  25886820      25926663           49885              100   \n2  4343  25886834      25926664           49885               97   \n3  4344  25886593      25926665           49885               27   \n4  4345  25886688      25926666           49885               31   \n\n   AREA_LONG_CODE                     AREA_NAME                     AREA_DESC  \\\n0              94                 Wychwood (94)                 Wychwood (94)   \n1             100          Yonge-Eglinton (100)          Yonge-Eglinton (100)   \n2              97           Yonge-St.Clair (97)           Yonge-St.Clair (97)   \n3              27  York University Heights (27)  York University Heights (27)   \n4              31       Yorkdale-Glen Park (31)       Yorkdale-Glen Park (31)   \n\n    X   Y  LONGITUDE   LATITUDE  OBJECTID   Shape__Area  Shape__Length  \\\n0 NaN NaN -79.425515  43.676919  16491505  3.217960e+06    7515.779658   \n1 NaN NaN -79.403590  43.704689  16491521  3.160334e+06    7872.021074   \n2 NaN NaN -79.397871  43.687859  16491537  2.222464e+06    8130.411276   \n3 NaN NaN -79.488883  43.765736  16491553  2.541821e+07   25632.335242   \n4 NaN NaN -79.457108  43.714672  16491569  1.156669e+07   13953.408098   \n\n                                            geometry  \n0  {u'type': u'Polygon', u'coordinates': (((-79.4...  \n1  {u'type': u'Polygon', u'coordinates': (((-79.4...  \n2  {u'type': u'Polygon', u'coordinates': (((-79.3...  \n3  {u'type': u'Polygon', u'coordinates': (((-79.5...  \n4  {u'type': u'Polygon', u'coordinates': (((-79.4...  "
                    },
                    "execution_count": 4,
                    "metadata": {},
                    "output_type": "execute_result"
                }
            ],
            "source": "neighbourhood_df = df_data_1\nneighbourhood_df.head()"
        },
        {
            "cell_type": "code",
            "execution_count": 5,
            "metadata": {},
            "outputs": [
                {
                    "data": {
                        "text/html": "<div>\n<style scoped>\n    .dataframe tbody tr th:only-of-type {\n        vertical-align: middle;\n    }\n\n    .dataframe tbody tr th {\n        vertical-align: top;\n    }\n\n    .dataframe thead th {\n        text-align: right;\n    }\n</style>\n<table border=\"1\" class=\"dataframe\">\n  <thead>\n    <tr style=\"text-align: right;\">\n      <th></th>\n      <th>_id</th>\n      <th>Category</th>\n      <th>Topic</th>\n      <th>Data Source</th>\n      <th>Characteristic</th>\n      <th>City of Toronto</th>\n      <th>Agincourt North</th>\n      <th>Agincourt South-Malvern West</th>\n      <th>Alderwood</th>\n      <th>Annex</th>\n      <th>...</th>\n      <th>Willowdale West</th>\n      <th>Willowridge-Martingrove-Richview</th>\n      <th>Woburn</th>\n      <th>Woodbine Corridor</th>\n      <th>Woodbine-Lumsden</th>\n      <th>Wychwood</th>\n      <th>Yonge-Eglinton</th>\n      <th>Yonge-St.Clair</th>\n      <th>York University Heights</th>\n      <th>Yorkdale-Glen Park</th>\n    </tr>\n  </thead>\n  <tbody>\n    <tr>\n      <th>0</th>\n      <td>1</td>\n      <td>Neighbourhood Information</td>\n      <td>Neighbourhood Information</td>\n      <td>City of Toronto</td>\n      <td>Neighbourhood Number</td>\n      <td>NaN</td>\n      <td>129</td>\n      <td>128</td>\n      <td>20</td>\n      <td>95</td>\n      <td>...</td>\n      <td>37</td>\n      <td>7</td>\n      <td>137</td>\n      <td>64</td>\n      <td>60</td>\n      <td>94</td>\n      <td>100</td>\n      <td>97</td>\n      <td>27</td>\n      <td>31</td>\n    </tr>\n    <tr>\n      <th>1</th>\n      <td>2</td>\n      <td>Neighbourhood Information</td>\n      <td>Neighbourhood Information</td>\n      <td>City of Toronto</td>\n      <td>TSNS2020 Designation</td>\n      <td>NaN</td>\n      <td>No Designation</td>\n      <td>No Designation</td>\n      <td>No Designation</td>\n      <td>No Designation</td>\n      <td>...</td>\n      <td>No Designation</td>\n      <td>No Designation</td>\n      <td>NIA</td>\n      <td>No Designation</td>\n      <td>No Designation</td>\n      <td>No Designation</td>\n      <td>No Designation</td>\n      <td>No Designation</td>\n      <td>NIA</td>\n      <td>Emerging Neighbourhood</td>\n    </tr>\n    <tr>\n      <th>2</th>\n      <td>3</td>\n      <td>Population</td>\n      <td>Population and dwellings</td>\n      <td>Census Profile 98-316-X2016001</td>\n      <td>Population, 2016</td>\n      <td>2,731,571</td>\n      <td>29,113</td>\n      <td>23,757</td>\n      <td>12,054</td>\n      <td>30,526</td>\n      <td>...</td>\n      <td>16,936</td>\n      <td>22,156</td>\n      <td>53,485</td>\n      <td>12,541</td>\n      <td>7,865</td>\n      <td>14,349</td>\n      <td>11,817</td>\n      <td>12,528</td>\n      <td>27,593</td>\n      <td>14,804</td>\n    </tr>\n    <tr>\n      <th>3</th>\n      <td>4</td>\n      <td>Population</td>\n      <td>Population and dwellings</td>\n      <td>Census Profile 98-316-X2016001</td>\n      <td>Population, 2011</td>\n      <td>2,615,060</td>\n      <td>30,279</td>\n      <td>21,988</td>\n      <td>11,904</td>\n      <td>29,177</td>\n      <td>...</td>\n      <td>15,004</td>\n      <td>21,343</td>\n      <td>53,350</td>\n      <td>11,703</td>\n      <td>7,826</td>\n      <td>13,986</td>\n      <td>10,578</td>\n      <td>11,652</td>\n      <td>27,713</td>\n      <td>14,687</td>\n    </tr>\n    <tr>\n      <th>4</th>\n      <td>5</td>\n      <td>Population</td>\n      <td>Population and dwellings</td>\n      <td>Census Profile 98-316-X2016001</td>\n      <td>Population Change 2011-2016</td>\n      <td>4.50%</td>\n      <td>-3.90%</td>\n      <td>8.00%</td>\n      <td>1.30%</td>\n      <td>4.60%</td>\n      <td>...</td>\n      <td>12.90%</td>\n      <td>3.80%</td>\n      <td>0.30%</td>\n      <td>7.20%</td>\n      <td>0.50%</td>\n      <td>2.60%</td>\n      <td>11.70%</td>\n      <td>7.50%</td>\n      <td>-0.40%</td>\n      <td>0.80%</td>\n    </tr>\n  </tbody>\n</table>\n<p>5 rows \u00d7 146 columns</p>\n</div>",
                        "text/plain": "   _id                   Category                      Topic  \\\n0    1  Neighbourhood Information  Neighbourhood Information   \n1    2  Neighbourhood Information  Neighbourhood Information   \n2    3                 Population   Population and dwellings   \n3    4                 Population   Population and dwellings   \n4    5                 Population   Population and dwellings   \n\n                      Data Source               Characteristic  \\\n0                 City of Toronto         Neighbourhood Number   \n1                 City of Toronto         TSNS2020 Designation   \n2  Census Profile 98-316-X2016001             Population, 2016   \n3  Census Profile 98-316-X2016001             Population, 2011   \n4  Census Profile 98-316-X2016001  Population Change 2011-2016   \n\n  City of Toronto Agincourt North Agincourt South-Malvern West  \\\n0             NaN             129                          128   \n1             NaN  No Designation               No Designation   \n2       2,731,571          29,113                       23,757   \n3       2,615,060          30,279                       21,988   \n4           4.50%          -3.90%                        8.00%   \n\n        Alderwood           Annex  ... Willowdale West  \\\n0              20              95  ...              37   \n1  No Designation  No Designation  ...  No Designation   \n2          12,054          30,526  ...          16,936   \n3          11,904          29,177  ...          15,004   \n4           1.30%           4.60%  ...          12.90%   \n\n  Willowridge-Martingrove-Richview  Woburn Woodbine Corridor Woodbine-Lumsden  \\\n0                                7     137                64               60   \n1                   No Designation     NIA    No Designation   No Designation   \n2                           22,156  53,485            12,541            7,865   \n3                           21,343  53,350            11,703            7,826   \n4                            3.80%   0.30%             7.20%            0.50%   \n\n         Wychwood  Yonge-Eglinton  Yonge-St.Clair York University Heights  \\\n0              94             100              97                      27   \n1  No Designation  No Designation  No Designation                     NIA   \n2          14,349          11,817          12,528                  27,593   \n3          13,986          10,578          11,652                  27,713   \n4           2.60%          11.70%           7.50%                  -0.40%   \n\n       Yorkdale-Glen Park  \n0                      31  \n1  Emerging Neighbourhood  \n2                  14,804  \n3                  14,687  \n4                   0.80%  \n\n[5 rows x 146 columns]"
                    },
                    "execution_count": 5,
                    "metadata": {},
                    "output_type": "execute_result"
                }
            ],
            "source": "demographics_df = df_data_2\ndemographics_df.head()"
        },
        {
            "cell_type": "markdown",
            "metadata": {},
            "source": "### Get names of columns of dataframes"
        },
        {
            "cell_type": "code",
            "execution_count": 6,
            "metadata": {},
            "outputs": [
                {
                    "data": {
                        "text/plain": "['_id',\n 'Category',\n 'Topic',\n 'Data Source',\n 'Characteristic',\n 'City of Toronto',\n 'Agincourt North',\n 'Agincourt South-Malvern West',\n 'Alderwood',\n 'Annex',\n 'Banbury-Don Mills',\n 'Bathurst Manor',\n 'Bay Street Corridor',\n 'Bayview Village',\n 'Bayview Woods-Steeles',\n 'Bedford Park-Nortown',\n 'Beechborough-Greenbrook',\n 'Bendale',\n 'Birchcliffe-Cliffside',\n 'Black Creek',\n 'Blake-Jones',\n 'Briar Hill-Belgravia',\n 'Bridle Path-Sunnybrook-York Mills',\n 'Broadview North',\n 'Brookhaven-Amesbury',\n 'Cabbagetown-South St. James Town',\n 'Caledonia-Fairbank',\n 'Casa Loma',\n 'Centennial Scarborough',\n 'Church-Yonge Corridor',\n 'Clairlea-Birchmount',\n 'Clanton Park',\n 'Cliffcrest',\n 'Corso Italia-Davenport',\n 'Danforth',\n 'Danforth East York',\n 'Don Valley Village',\n 'Dorset Park',\n 'Dovercourt-Wallace Emerson-Junction',\n 'Downsview-Roding-CFB',\n 'Dufferin Grove',\n 'East End-Danforth',\n 'Edenbridge-Humber Valley',\n 'Eglinton East',\n 'Elms-Old Rexdale',\n 'Englemount-Lawrence',\n 'Eringate-Centennial-West Deane',\n 'Etobicoke West Mall',\n 'Flemingdon Park',\n 'Forest Hill North',\n 'Forest Hill South',\n 'Glenfield-Jane Heights',\n 'Greenwood-Coxwell',\n 'Guildwood',\n 'Henry Farm',\n 'High Park North',\n 'High Park-Swansea',\n 'Highland Creek',\n 'Hillcrest Village',\n 'Humber Heights-Westmount',\n 'Humber Summit',\n 'Humbermede',\n 'Humewood-Cedarvale',\n 'Ionview',\n 'Islington-City Centre West',\n 'Junction Area',\n 'Keelesdale-Eglinton West',\n 'Kennedy Park',\n 'Kensington-Chinatown',\n 'Kingsview Village-The Westway',\n 'Kingsway South',\n 'Lambton Baby Point',\n \"L'Amoreaux\",\n 'Lansing-Westgate',\n 'Lawrence Park North',\n 'Lawrence Park South',\n 'Leaside-Bennington',\n 'Little Portugal',\n 'Long Branch',\n 'Malvern',\n 'Maple Leaf',\n 'Markland Wood',\n 'Milliken',\n 'Mimico (includes Humber Bay Shores)',\n 'Morningside',\n 'Moss Park',\n 'Mount Dennis',\n 'Mount Olive-Silverstone-Jamestown',\n 'Mount Pleasant East',\n 'Mount Pleasant West',\n 'New Toronto',\n 'Newtonbrook East',\n 'Newtonbrook West',\n 'Niagara',\n 'North Riverdale',\n 'North St. James Town',\n 'Oakridge',\n 'Oakwood Village',\n \"O'Connor-Parkview\",\n 'Old East York',\n 'Palmerston-Little Italy',\n 'Parkwoods-Donalda',\n 'Pelmo Park-Humberlea',\n 'Playter Estates-Danforth',\n 'Pleasant View',\n 'Princess-Rosethorn',\n 'Regent Park',\n 'Rexdale-Kipling',\n 'Rockcliffe-Smythe',\n 'Roncesvalles',\n 'Rosedale-Moore Park',\n 'Rouge',\n 'Runnymede-Bloor West Village',\n 'Rustic',\n 'Scarborough Village',\n 'South Parkdale',\n 'South Riverdale',\n 'St.Andrew-Windfields',\n 'Steeles',\n 'Stonegate-Queensway',\n \"Tam O'Shanter-Sullivan\",\n 'Taylor-Massey',\n 'The Beaches',\n 'Thistletown-Beaumond Heights',\n 'Thorncliffe Park',\n 'Trinity-Bellwoods',\n 'University',\n 'Victoria Village',\n 'Waterfront Communities-The Island',\n 'West Hill',\n 'West Humber-Clairville',\n 'Westminster-Branson',\n 'Weston',\n 'Weston-Pelham Park',\n 'Wexford/Maryvale',\n 'Willowdale East',\n 'Willowdale West',\n 'Willowridge-Martingrove-Richview',\n 'Woburn',\n 'Woodbine Corridor',\n 'Woodbine-Lumsden',\n 'Wychwood',\n 'Yonge-Eglinton',\n 'Yonge-St.Clair',\n 'York University Heights',\n 'Yorkdale-Glen Park']"
                    },
                    "execution_count": 6,
                    "metadata": {},
                    "output_type": "execute_result"
                }
            ],
            "source": "demographics_df.columns.values.tolist()"
        },
        {
            "cell_type": "code",
            "execution_count": 7,
            "metadata": {},
            "outputs": [
                {
                    "data": {
                        "text/plain": "['_id',\n 'AREA_ID',\n 'AREA_ATTR_ID',\n 'PARENT_AREA_ID',\n 'AREA_SHORT_CODE',\n 'AREA_LONG_CODE',\n 'AREA_NAME',\n 'AREA_DESC',\n 'X',\n 'Y',\n 'LONGITUDE',\n 'LATITUDE',\n 'OBJECTID',\n 'Shape__Area',\n 'Shape__Length',\n 'geometry']"
                    },
                    "execution_count": 7,
                    "metadata": {},
                    "output_type": "execute_result"
                }
            ],
            "source": "neighbourhood_df.columns.values.tolist()"
        },
        {
            "cell_type": "code",
            "execution_count": 8,
            "metadata": {},
            "outputs": [],
            "source": "#switch rows and columns in demographics_df\n\n#demographics_df = demographics_df.T\n\n#demographics_df.head()\n"
        },
        {
            "cell_type": "markdown",
            "metadata": {},
            "source": "### Isolate columns and rows we want in the appropriate dataframes"
        },
        {
            "cell_type": "code",
            "execution_count": 9,
            "metadata": {},
            "outputs": [],
            "source": "neighbourhood_num_df = demographics_df[demographics_df.Characteristic == 'Neighbourhood Number']"
        },
        {
            "cell_type": "code",
            "execution_count": 10,
            "metadata": {},
            "outputs": [
                {
                    "data": {
                        "text/html": "<div>\n<style scoped>\n    .dataframe tbody tr th:only-of-type {\n        vertical-align: middle;\n    }\n\n    .dataframe tbody tr th {\n        vertical-align: top;\n    }\n\n    .dataframe thead th {\n        text-align: right;\n    }\n</style>\n<table border=\"1\" class=\"dataframe\">\n  <thead>\n    <tr style=\"text-align: right;\">\n      <th></th>\n      <th>_id</th>\n      <th>Category</th>\n      <th>Topic</th>\n      <th>Data Source</th>\n      <th>Characteristic</th>\n      <th>City of Toronto</th>\n      <th>Agincourt North</th>\n      <th>Agincourt South-Malvern West</th>\n      <th>Alderwood</th>\n      <th>Annex</th>\n      <th>...</th>\n      <th>Willowdale West</th>\n      <th>Willowridge-Martingrove-Richview</th>\n      <th>Woburn</th>\n      <th>Woodbine Corridor</th>\n      <th>Woodbine-Lumsden</th>\n      <th>Wychwood</th>\n      <th>Yonge-Eglinton</th>\n      <th>Yonge-St.Clair</th>\n      <th>York University Heights</th>\n      <th>Yorkdale-Glen Park</th>\n    </tr>\n  </thead>\n  <tbody>\n    <tr>\n      <th>0</th>\n      <td>1</td>\n      <td>Neighbourhood Information</td>\n      <td>Neighbourhood Information</td>\n      <td>City of Toronto</td>\n      <td>Neighbourhood Number</td>\n      <td>NaN</td>\n      <td>129</td>\n      <td>128</td>\n      <td>20</td>\n      <td>95</td>\n      <td>...</td>\n      <td>37</td>\n      <td>7</td>\n      <td>137</td>\n      <td>64</td>\n      <td>60</td>\n      <td>94</td>\n      <td>100</td>\n      <td>97</td>\n      <td>27</td>\n      <td>31</td>\n    </tr>\n  </tbody>\n</table>\n<p>1 rows \u00d7 146 columns</p>\n</div>",
                        "text/plain": "   _id                   Category                      Topic      Data Source  \\\n0    1  Neighbourhood Information  Neighbourhood Information  City of Toronto   \n\n         Characteristic City of Toronto Agincourt North  \\\n0  Neighbourhood Number             NaN             129   \n\n  Agincourt South-Malvern West Alderwood Annex  ... Willowdale West  \\\n0                          128        20    95  ...              37   \n\n  Willowridge-Martingrove-Richview Woburn Woodbine Corridor Woodbine-Lumsden  \\\n0                                7    137                64               60   \n\n  Wychwood Yonge-Eglinton Yonge-St.Clair York University Heights  \\\n0       94            100             97                      27   \n\n  Yorkdale-Glen Park  \n0                 31  \n\n[1 rows x 146 columns]"
                    },
                    "execution_count": 10,
                    "metadata": {},
                    "output_type": "execute_result"
                }
            ],
            "source": "neighbourhood_num_df.head()"
        },
        {
            "cell_type": "markdown",
            "metadata": {},
            "source": "### Select rows featuring age statistics"
        },
        {
            "cell_type": "code",
            "execution_count": 11,
            "metadata": {},
            "outputs": [
                {
                    "data": {
                        "text/html": "<div>\n<style scoped>\n    .dataframe tbody tr th:only-of-type {\n        vertical-align: middle;\n    }\n\n    .dataframe tbody tr th {\n        vertical-align: top;\n    }\n\n    .dataframe thead th {\n        text-align: right;\n    }\n</style>\n<table border=\"1\" class=\"dataframe\">\n  <thead>\n    <tr style=\"text-align: right;\">\n      <th></th>\n      <th>_id</th>\n      <th>Category</th>\n      <th>Topic</th>\n      <th>Data Source</th>\n      <th>Characteristic</th>\n      <th>City of Toronto</th>\n      <th>Agincourt North</th>\n      <th>Agincourt South-Malvern West</th>\n      <th>Alderwood</th>\n      <th>Annex</th>\n      <th>...</th>\n      <th>Willowdale West</th>\n      <th>Willowridge-Martingrove-Richview</th>\n      <th>Woburn</th>\n      <th>Woodbine Corridor</th>\n      <th>Woodbine-Lumsden</th>\n      <th>Wychwood</th>\n      <th>Yonge-Eglinton</th>\n      <th>Yonge-St.Clair</th>\n      <th>York University Heights</th>\n      <th>Yorkdale-Glen Park</th>\n    </tr>\n  </thead>\n  <tbody>\n    <tr>\n      <th>9</th>\n      <td>10</td>\n      <td>Population</td>\n      <td>Age characteristics</td>\n      <td>Census Profile 98-316-X2016001</td>\n      <td>Children (0-14 years)</td>\n      <td>398,135</td>\n      <td>3,840</td>\n      <td>3,075</td>\n      <td>1,760</td>\n      <td>2,360</td>\n      <td>...</td>\n      <td>1,785</td>\n      <td>3,555</td>\n      <td>9,625</td>\n      <td>2,325</td>\n      <td>1,165</td>\n      <td>1,860</td>\n      <td>1,800</td>\n      <td>1,210</td>\n      <td>4,045</td>\n      <td>1,960</td>\n    </tr>\n    <tr>\n      <th>10</th>\n      <td>11</td>\n      <td>Population</td>\n      <td>Age characteristics</td>\n      <td>Census Profile 98-316-X2016001</td>\n      <td>Youth (15-24 years)</td>\n      <td>340,270</td>\n      <td>3,705</td>\n      <td>3,360</td>\n      <td>1,235</td>\n      <td>3,750</td>\n      <td>...</td>\n      <td>2,230</td>\n      <td>2,625</td>\n      <td>7,660</td>\n      <td>1,035</td>\n      <td>675</td>\n      <td>1,320</td>\n      <td>1,225</td>\n      <td>920</td>\n      <td>4,750</td>\n      <td>1,870</td>\n    </tr>\n    <tr>\n      <th>11</th>\n      <td>12</td>\n      <td>Population</td>\n      <td>Age characteristics</td>\n      <td>Census Profile 98-316-X2016001</td>\n      <td>Working Age (25-54 years)</td>\n      <td>1,229,555</td>\n      <td>11,305</td>\n      <td>9,965</td>\n      <td>5,220</td>\n      <td>15,040</td>\n      <td>...</td>\n      <td>7,480</td>\n      <td>8,140</td>\n      <td>21,945</td>\n      <td>6,165</td>\n      <td>3,790</td>\n      <td>6,420</td>\n      <td>5,860</td>\n      <td>5,960</td>\n      <td>12,290</td>\n      <td>5,860</td>\n    </tr>\n    <tr>\n      <th>12</th>\n      <td>13</td>\n      <td>Population</td>\n      <td>Age characteristics</td>\n      <td>Census Profile 98-316-X2016001</td>\n      <td>Pre-retirement (55-64 years)</td>\n      <td>336,670</td>\n      <td>4,230</td>\n      <td>3,265</td>\n      <td>1,825</td>\n      <td>3,480</td>\n      <td>...</td>\n      <td>2,070</td>\n      <td>2,905</td>\n      <td>6,245</td>\n      <td>1,625</td>\n      <td>1,150</td>\n      <td>1,595</td>\n      <td>1,325</td>\n      <td>1,540</td>\n      <td>2,965</td>\n      <td>1,810</td>\n    </tr>\n    <tr>\n      <th>13</th>\n      <td>14</td>\n      <td>Population</td>\n      <td>Age characteristics</td>\n      <td>Census Profile 98-316-X2016001</td>\n      <td>Seniors (65+ years)</td>\n      <td>426,945</td>\n      <td>6,045</td>\n      <td>4,105</td>\n      <td>2,015</td>\n      <td>5,910</td>\n      <td>...</td>\n      <td>3,370</td>\n      <td>4,905</td>\n      <td>8,010</td>\n      <td>1,380</td>\n      <td>1,095</td>\n      <td>3,150</td>\n      <td>1,600</td>\n      <td>2,905</td>\n      <td>3,530</td>\n      <td>3,295</td>\n    </tr>\n    <tr>\n      <th>14</th>\n      <td>15</td>\n      <td>Population</td>\n      <td>Age characteristics</td>\n      <td>Census Profile 98-316-X2016001</td>\n      <td>Older Seniors (85+ years)</td>\n      <td>66,000</td>\n      <td>925</td>\n      <td>555</td>\n      <td>320</td>\n      <td>1,040</td>\n      <td>...</td>\n      <td>655</td>\n      <td>885</td>\n      <td>1,130</td>\n      <td>170</td>\n      <td>125</td>\n      <td>880</td>\n      <td>165</td>\n      <td>470</td>\n      <td>400</td>\n      <td>775</td>\n    </tr>\n  </tbody>\n</table>\n<p>6 rows \u00d7 146 columns</p>\n</div>",
                        "text/plain": "    _id    Category                Topic                     Data Source  \\\n9    10  Population  Age characteristics  Census Profile 98-316-X2016001   \n10   11  Population  Age characteristics  Census Profile 98-316-X2016001   \n11   12  Population  Age characteristics  Census Profile 98-316-X2016001   \n12   13  Population  Age characteristics  Census Profile 98-316-X2016001   \n13   14  Population  Age characteristics  Census Profile 98-316-X2016001   \n14   15  Population  Age characteristics  Census Profile 98-316-X2016001   \n\n                  Characteristic City of Toronto Agincourt North  \\\n9          Children (0-14 years)         398,135           3,840   \n10           Youth (15-24 years)         340,270           3,705   \n11     Working Age (25-54 years)       1,229,555          11,305   \n12  Pre-retirement (55-64 years)         336,670           4,230   \n13           Seniors (65+ years)         426,945           6,045   \n14     Older Seniors (85+ years)          66,000             925   \n\n   Agincourt South-Malvern West Alderwood   Annex  ... Willowdale West  \\\n9                         3,075     1,760   2,360  ...           1,785   \n10                        3,360     1,235   3,750  ...           2,230   \n11                        9,965     5,220  15,040  ...           7,480   \n12                        3,265     1,825   3,480  ...           2,070   \n13                        4,105     2,015   5,910  ...           3,370   \n14                          555       320   1,040  ...             655   \n\n   Willowridge-Martingrove-Richview  Woburn Woodbine Corridor  \\\n9                             3,555   9,625             2,325   \n10                            2,625   7,660             1,035   \n11                            8,140  21,945             6,165   \n12                            2,905   6,245             1,625   \n13                            4,905   8,010             1,380   \n14                              885   1,130               170   \n\n   Woodbine-Lumsden Wychwood Yonge-Eglinton Yonge-St.Clair  \\\n9             1,165    1,860          1,800          1,210   \n10              675    1,320          1,225            920   \n11            3,790    6,420          5,860          5,960   \n12            1,150    1,595          1,325          1,540   \n13            1,095    3,150          1,600          2,905   \n14              125      880            165            470   \n\n   York University Heights Yorkdale-Glen Park  \n9                    4,045              1,960  \n10                   4,750              1,870  \n11                  12,290              5,860  \n12                   2,965              1,810  \n13                   3,530              3,295  \n14                     400                775  \n\n[6 rows x 146 columns]"
                    },
                    "execution_count": 11,
                    "metadata": {},
                    "output_type": "execute_result"
                }
            ],
            "source": "age_stats_df = demographics_df[(demographics_df.Characteristic == 'Children (0-14 years)') | (demographics_df.Characteristic == 'Youth (15-24 years)') | (demographics_df.Characteristic == 'Working Age (25-54 years)') | (demographics_df.Characteristic == 'Pre-retirement (55-64 years)') | (demographics_df.Characteristic == 'Seniors (65+ years)') | (demographics_df.Characteristic == 'Older Seniors (85+ years)')]\n\nage_stats_df\n"
        },
        {
            "cell_type": "markdown",
            "metadata": {},
            "source": "### Remove commas and turn numbers with datatype string into float numbers"
        },
        {
            "cell_type": "code",
            "execution_count": 12,
            "metadata": {},
            "outputs": [],
            "source": "# want to remove commas and turn strings into numbers in columns between city of toronto and yorkdale-glen park\n\n#remove commas in age_stats_df \n\nage_stats_df = age_stats_df.replace(',','', regex=True)\n\n#age_stats_df.loc[:, 'City of Toronto':'Yorkdale-Glen Park']\n#df4_num.head()\n\n#age_cols = age_stats_df.select_dtypes(object).columns\n#df4_num_new[c] = df4_num_new[c].apply(pd.to_numeric,errors='coerce')\n\n#age_stats_df[age_cols] = age_stats_df[age_cols].apply(pd.to_numeric, errors='coerce')\n\n\n#age_cols = age_stats_df[['City of Toronto':'Yorkdale-Glen Park']\n#age_stats_df[age_cols] = age_stats_df[age_cols].apply(pd.to_numeric, errors='coerce')\n\n#age_stats_df.loc[:, 'City of Toronto':'Yorkdale-Glen Park'] = age_stats_df.loc[:, 'City of Toronto':'Yorkdale-Glen Park'].apply(pd.to_numeric) \n\n#age_stats_df.head()"
        },
        {
            "cell_type": "code",
            "execution_count": 13,
            "metadata": {},
            "outputs": [
                {
                    "data": {
                        "text/html": "<div>\n<style scoped>\n    .dataframe tbody tr th:only-of-type {\n        vertical-align: middle;\n    }\n\n    .dataframe tbody tr th {\n        vertical-align: top;\n    }\n\n    .dataframe thead th {\n        text-align: right;\n    }\n</style>\n<table border=\"1\" class=\"dataframe\">\n  <thead>\n    <tr style=\"text-align: right;\">\n      <th></th>\n      <th>_id</th>\n      <th>Category</th>\n      <th>Topic</th>\n      <th>Data Source</th>\n      <th>Characteristic</th>\n      <th>City of Toronto</th>\n      <th>Agincourt North</th>\n      <th>Agincourt South-Malvern West</th>\n      <th>Alderwood</th>\n      <th>Annex</th>\n      <th>...</th>\n      <th>Willowdale West</th>\n      <th>Willowridge-Martingrove-Richview</th>\n      <th>Woburn</th>\n      <th>Woodbine Corridor</th>\n      <th>Woodbine-Lumsden</th>\n      <th>Wychwood</th>\n      <th>Yonge-Eglinton</th>\n      <th>Yonge-St.Clair</th>\n      <th>York University Heights</th>\n      <th>Yorkdale-Glen Park</th>\n    </tr>\n  </thead>\n  <tbody>\n    <tr>\n      <th>9</th>\n      <td>10</td>\n      <td>Population</td>\n      <td>Age characteristics</td>\n      <td>Census Profile 98-316-X2016001</td>\n      <td>Children (0-14 years)</td>\n      <td>398135</td>\n      <td>3840</td>\n      <td>3075</td>\n      <td>1760</td>\n      <td>2360</td>\n      <td>...</td>\n      <td>1785</td>\n      <td>3555</td>\n      <td>9625</td>\n      <td>2325</td>\n      <td>1165</td>\n      <td>1860</td>\n      <td>1800</td>\n      <td>1210</td>\n      <td>4045</td>\n      <td>1960</td>\n    </tr>\n    <tr>\n      <th>10</th>\n      <td>11</td>\n      <td>Population</td>\n      <td>Age characteristics</td>\n      <td>Census Profile 98-316-X2016001</td>\n      <td>Youth (15-24 years)</td>\n      <td>340270</td>\n      <td>3705</td>\n      <td>3360</td>\n      <td>1235</td>\n      <td>3750</td>\n      <td>...</td>\n      <td>2230</td>\n      <td>2625</td>\n      <td>7660</td>\n      <td>1035</td>\n      <td>675</td>\n      <td>1320</td>\n      <td>1225</td>\n      <td>920</td>\n      <td>4750</td>\n      <td>1870</td>\n    </tr>\n    <tr>\n      <th>11</th>\n      <td>12</td>\n      <td>Population</td>\n      <td>Age characteristics</td>\n      <td>Census Profile 98-316-X2016001</td>\n      <td>Working Age (25-54 years)</td>\n      <td>1229555</td>\n      <td>11305</td>\n      <td>9965</td>\n      <td>5220</td>\n      <td>15040</td>\n      <td>...</td>\n      <td>7480</td>\n      <td>8140</td>\n      <td>21945</td>\n      <td>6165</td>\n      <td>3790</td>\n      <td>6420</td>\n      <td>5860</td>\n      <td>5960</td>\n      <td>12290</td>\n      <td>5860</td>\n    </tr>\n    <tr>\n      <th>12</th>\n      <td>13</td>\n      <td>Population</td>\n      <td>Age characteristics</td>\n      <td>Census Profile 98-316-X2016001</td>\n      <td>Pre-retirement (55-64 years)</td>\n      <td>336670</td>\n      <td>4230</td>\n      <td>3265</td>\n      <td>1825</td>\n      <td>3480</td>\n      <td>...</td>\n      <td>2070</td>\n      <td>2905</td>\n      <td>6245</td>\n      <td>1625</td>\n      <td>1150</td>\n      <td>1595</td>\n      <td>1325</td>\n      <td>1540</td>\n      <td>2965</td>\n      <td>1810</td>\n    </tr>\n    <tr>\n      <th>13</th>\n      <td>14</td>\n      <td>Population</td>\n      <td>Age characteristics</td>\n      <td>Census Profile 98-316-X2016001</td>\n      <td>Seniors (65+ years)</td>\n      <td>426945</td>\n      <td>6045</td>\n      <td>4105</td>\n      <td>2015</td>\n      <td>5910</td>\n      <td>...</td>\n      <td>3370</td>\n      <td>4905</td>\n      <td>8010</td>\n      <td>1380</td>\n      <td>1095</td>\n      <td>3150</td>\n      <td>1600</td>\n      <td>2905</td>\n      <td>3530</td>\n      <td>3295</td>\n    </tr>\n  </tbody>\n</table>\n<p>5 rows \u00d7 146 columns</p>\n</div>",
                        "text/plain": "    _id    Category                Topic                     Data Source  \\\n9    10  Population  Age characteristics  Census Profile 98-316-X2016001   \n10   11  Population  Age characteristics  Census Profile 98-316-X2016001   \n11   12  Population  Age characteristics  Census Profile 98-316-X2016001   \n12   13  Population  Age characteristics  Census Profile 98-316-X2016001   \n13   14  Population  Age characteristics  Census Profile 98-316-X2016001   \n\n                  Characteristic  City of Toronto  Agincourt North  \\\n9          Children (0-14 years)           398135             3840   \n10           Youth (15-24 years)           340270             3705   \n11     Working Age (25-54 years)          1229555            11305   \n12  Pre-retirement (55-64 years)           336670             4230   \n13           Seniors (65+ years)           426945             6045   \n\n    Agincourt South-Malvern West  Alderwood  Annex  ...  Willowdale West  \\\n9                           3075       1760   2360  ...             1785   \n10                          3360       1235   3750  ...             2230   \n11                          9965       5220  15040  ...             7480   \n12                          3265       1825   3480  ...             2070   \n13                          4105       2015   5910  ...             3370   \n\n    Willowridge-Martingrove-Richview  Woburn  Woodbine Corridor  \\\n9                               3555    9625               2325   \n10                              2625    7660               1035   \n11                              8140   21945               6165   \n12                              2905    6245               1625   \n13                              4905    8010               1380   \n\n    Woodbine-Lumsden  Wychwood  Yonge-Eglinton  Yonge-St.Clair  \\\n9               1165      1860            1800            1210   \n10               675      1320            1225             920   \n11              3790      6420            5860            5960   \n12              1150      1595            1325            1540   \n13              1095      3150            1600            2905   \n\n    York University Heights  Yorkdale-Glen Park  \n9                      4045                1960  \n10                     4750                1870  \n11                    12290                5860  \n12                     2965                1810  \n13                     3530                3295  \n\n[5 rows x 146 columns]"
                    },
                    "execution_count": 13,
                    "metadata": {},
                    "output_type": "execute_result"
                }
            ],
            "source": "#turn strings between the City of Toronto and Yorkdale-Glen Park columns into numeric values\nage_stats_df.loc[:, 'City of Toronto':'Yorkdale-Glen Park'] = age_stats_df.loc[:, 'City of Toronto':'Yorkdale-Glen Park'].apply(pd.to_numeric) \n\nage_stats_df.head()"
        },
        {
            "cell_type": "code",
            "execution_count": 14,
            "metadata": {},
            "outputs": [
                {
                    "name": "stdout",
                    "output_type": "stream",
                    "text": "398135\n"
                },
                {
                    "data": {
                        "text/plain": "numpy.int64"
                    },
                    "execution_count": 14,
                    "metadata": {},
                    "output_type": "execute_result"
                }
            ],
            "source": "#check\nval_check_1 = age_stats_df['City of Toronto'].values[0]\nprint(val_check_1)\ntype(val_check_1)"
        },
        {
            "cell_type": "markdown",
            "metadata": {},
            "source": "### Dataframe featuring numeric columns of the neighbourhoods"
        },
        {
            "cell_type": "code",
            "execution_count": 15,
            "metadata": {},
            "outputs": [
                {
                    "data": {
                        "text/html": "<div>\n<style scoped>\n    .dataframe tbody tr th:only-of-type {\n        vertical-align: middle;\n    }\n\n    .dataframe tbody tr th {\n        vertical-align: top;\n    }\n\n    .dataframe thead th {\n        text-align: right;\n    }\n</style>\n<table border=\"1\" class=\"dataframe\">\n  <thead>\n    <tr style=\"text-align: right;\">\n      <th></th>\n      <th>City of Toronto</th>\n      <th>Agincourt North</th>\n      <th>Agincourt South-Malvern West</th>\n      <th>Alderwood</th>\n      <th>Annex</th>\n      <th>Banbury-Don Mills</th>\n      <th>Bathurst Manor</th>\n      <th>Bay Street Corridor</th>\n      <th>Bayview Village</th>\n      <th>Bayview Woods-Steeles</th>\n      <th>...</th>\n      <th>Willowdale West</th>\n      <th>Willowridge-Martingrove-Richview</th>\n      <th>Woburn</th>\n      <th>Woodbine Corridor</th>\n      <th>Woodbine-Lumsden</th>\n      <th>Wychwood</th>\n      <th>Yonge-Eglinton</th>\n      <th>Yonge-St.Clair</th>\n      <th>York University Heights</th>\n      <th>Yorkdale-Glen Park</th>\n    </tr>\n  </thead>\n  <tbody>\n    <tr>\n      <th>9</th>\n      <td>398135</td>\n      <td>3840</td>\n      <td>3075</td>\n      <td>1760</td>\n      <td>2360</td>\n      <td>3605</td>\n      <td>2325</td>\n      <td>1695</td>\n      <td>2415</td>\n      <td>1515</td>\n      <td>...</td>\n      <td>1785</td>\n      <td>3555</td>\n      <td>9625</td>\n      <td>2325</td>\n      <td>1165</td>\n      <td>1860</td>\n      <td>1800</td>\n      <td>1210</td>\n      <td>4045</td>\n      <td>1960</td>\n    </tr>\n    <tr>\n      <th>10</th>\n      <td>340270</td>\n      <td>3705</td>\n      <td>3360</td>\n      <td>1235</td>\n      <td>3750</td>\n      <td>2730</td>\n      <td>1940</td>\n      <td>6860</td>\n      <td>2505</td>\n      <td>1635</td>\n      <td>...</td>\n      <td>2230</td>\n      <td>2625</td>\n      <td>7660</td>\n      <td>1035</td>\n      <td>675</td>\n      <td>1320</td>\n      <td>1225</td>\n      <td>920</td>\n      <td>4750</td>\n      <td>1870</td>\n    </tr>\n    <tr>\n      <th>11</th>\n      <td>1229555</td>\n      <td>11305</td>\n      <td>9965</td>\n      <td>5220</td>\n      <td>15040</td>\n      <td>10810</td>\n      <td>6655</td>\n      <td>13065</td>\n      <td>10310</td>\n      <td>4490</td>\n      <td>...</td>\n      <td>7480</td>\n      <td>8140</td>\n      <td>21945</td>\n      <td>6165</td>\n      <td>3790</td>\n      <td>6420</td>\n      <td>5860</td>\n      <td>5960</td>\n      <td>12290</td>\n      <td>5860</td>\n    </tr>\n    <tr>\n      <th>12</th>\n      <td>336670</td>\n      <td>4230</td>\n      <td>3265</td>\n      <td>1825</td>\n      <td>3480</td>\n      <td>3555</td>\n      <td>2030</td>\n      <td>1760</td>\n      <td>2540</td>\n      <td>1825</td>\n      <td>...</td>\n      <td>2070</td>\n      <td>2905</td>\n      <td>6245</td>\n      <td>1625</td>\n      <td>1150</td>\n      <td>1595</td>\n      <td>1325</td>\n      <td>1540</td>\n      <td>2965</td>\n      <td>1810</td>\n    </tr>\n    <tr>\n      <th>13</th>\n      <td>426945</td>\n      <td>6045</td>\n      <td>4105</td>\n      <td>2015</td>\n      <td>5910</td>\n      <td>6975</td>\n      <td>2940</td>\n      <td>2420</td>\n      <td>3615</td>\n      <td>3685</td>\n      <td>...</td>\n      <td>3370</td>\n      <td>4905</td>\n      <td>8010</td>\n      <td>1380</td>\n      <td>1095</td>\n      <td>3150</td>\n      <td>1600</td>\n      <td>2905</td>\n      <td>3530</td>\n      <td>3295</td>\n    </tr>\n  </tbody>\n</table>\n<p>5 rows \u00d7 141 columns</p>\n</div>",
                        "text/plain": "    City of Toronto  Agincourt North  Agincourt South-Malvern West  Alderwood  \\\n9            398135             3840                          3075       1760   \n10           340270             3705                          3360       1235   \n11          1229555            11305                          9965       5220   \n12           336670             4230                          3265       1825   \n13           426945             6045                          4105       2015   \n\n    Annex  Banbury-Don Mills  Bathurst Manor  Bay Street Corridor  \\\n9    2360               3605            2325                 1695   \n10   3750               2730            1940                 6860   \n11  15040              10810            6655                13065   \n12   3480               3555            2030                 1760   \n13   5910               6975            2940                 2420   \n\n    Bayview Village  Bayview Woods-Steeles  ...  Willowdale West  \\\n9              2415                   1515  ...             1785   \n10             2505                   1635  ...             2230   \n11            10310                   4490  ...             7480   \n12             2540                   1825  ...             2070   \n13             3615                   3685  ...             3370   \n\n    Willowridge-Martingrove-Richview  Woburn  Woodbine Corridor  \\\n9                               3555    9625               2325   \n10                              2625    7660               1035   \n11                              8140   21945               6165   \n12                              2905    6245               1625   \n13                              4905    8010               1380   \n\n    Woodbine-Lumsden  Wychwood  Yonge-Eglinton  Yonge-St.Clair  \\\n9               1165      1860            1800            1210   \n10               675      1320            1225             920   \n11              3790      6420            5860            5960   \n12              1150      1595            1325            1540   \n13              1095      3150            1600            2905   \n\n    York University Heights  Yorkdale-Glen Park  \n9                      4045                1960  \n10                     4750                1870  \n11                    12290                5860  \n12                     2965                1810  \n13                     3530                3295  \n\n[5 rows x 141 columns]"
                    },
                    "execution_count": 15,
                    "metadata": {},
                    "output_type": "execute_result"
                }
            ],
            "source": "age_num = age_stats_df.loc[:, 'City of Toronto':'Yorkdale-Glen Park']\nage_num.head()\n"
        },
        {
            "cell_type": "code",
            "execution_count": 16,
            "metadata": {},
            "outputs": [],
            "source": "#age_num_new = age_num.replace(',','', regex=True)\n#age_num_new.head()\n\n#age_col = age_num_new.select_dtypes(object).columns\n#age_num_new[age_col] = age_num_new[age_col].apply(pd.to_numeric,errors='coerce')\n\n#age_num_new.head()"
        },
        {
            "cell_type": "code",
            "execution_count": 17,
            "metadata": {},
            "outputs": [
                {
                    "name": "stdout",
                    "output_type": "stream",
                    "text": "398135\n"
                },
                {
                    "data": {
                        "text/plain": "numpy.int64"
                    },
                    "execution_count": 17,
                    "metadata": {},
                    "output_type": "execute_result"
                }
            ],
            "source": "val_check = age_num['City of Toronto'].values[0]\nprint(val_check)\ntype(val_check)"
        },
        {
            "cell_type": "markdown",
            "metadata": {},
            "source": "## Testing area"
        },
        {
            "cell_type": "markdown",
            "metadata": {},
            "source": "### Getting row for each neighbourhood featuring total vuln population"
        },
        {
            "cell_type": "code",
            "execution_count": 46,
            "metadata": {},
            "outputs": [
                {
                    "data": {
                        "text/html": "<div>\n<style scoped>\n    .dataframe tbody tr th:only-of-type {\n        vertical-align: middle;\n    }\n\n    .dataframe tbody tr th {\n        vertical-align: top;\n    }\n\n    .dataframe thead th {\n        text-align: right;\n    }\n</style>\n<table border=\"1\" class=\"dataframe\">\n  <thead>\n    <tr style=\"text-align: right;\">\n      <th></th>\n      <th>_id</th>\n      <th>Category</th>\n      <th>Topic</th>\n      <th>Data Source</th>\n      <th>Characteristic</th>\n      <th>City of Toronto</th>\n      <th>Agincourt North</th>\n      <th>Agincourt South-Malvern West</th>\n      <th>Alderwood</th>\n      <th>Annex</th>\n      <th>...</th>\n      <th>Willowdale West</th>\n      <th>Willowridge-Martingrove-Richview</th>\n      <th>Woburn</th>\n      <th>Woodbine Corridor</th>\n      <th>Woodbine-Lumsden</th>\n      <th>Wychwood</th>\n      <th>Yonge-Eglinton</th>\n      <th>Yonge-St.Clair</th>\n      <th>York University Heights</th>\n      <th>Yorkdale-Glen Park</th>\n    </tr>\n  </thead>\n  <tbody>\n    <tr>\n      <th>9</th>\n      <td>10</td>\n      <td>Population</td>\n      <td>Age characteristics</td>\n      <td>Census Profile 98-316-X2016001</td>\n      <td>Children (0-14 years)</td>\n      <td>398135</td>\n      <td>3840</td>\n      <td>3075</td>\n      <td>1760</td>\n      <td>2360</td>\n      <td>...</td>\n      <td>1785</td>\n      <td>3555</td>\n      <td>9625</td>\n      <td>2325</td>\n      <td>1165</td>\n      <td>1860</td>\n      <td>1800</td>\n      <td>1210</td>\n      <td>4045</td>\n      <td>1960</td>\n    </tr>\n    <tr>\n      <th>13</th>\n      <td>14</td>\n      <td>Population</td>\n      <td>Age characteristics</td>\n      <td>Census Profile 98-316-X2016001</td>\n      <td>Seniors (65+ years)</td>\n      <td>426945</td>\n      <td>6045</td>\n      <td>4105</td>\n      <td>2015</td>\n      <td>5910</td>\n      <td>...</td>\n      <td>3370</td>\n      <td>4905</td>\n      <td>8010</td>\n      <td>1380</td>\n      <td>1095</td>\n      <td>3150</td>\n      <td>1600</td>\n      <td>2905</td>\n      <td>3530</td>\n      <td>3295</td>\n    </tr>\n    <tr>\n      <th>14</th>\n      <td>15</td>\n      <td>Population</td>\n      <td>Age characteristics</td>\n      <td>Census Profile 98-316-X2016001</td>\n      <td>Older Seniors (85+ years)</td>\n      <td>66000</td>\n      <td>925</td>\n      <td>555</td>\n      <td>320</td>\n      <td>1040</td>\n      <td>...</td>\n      <td>655</td>\n      <td>885</td>\n      <td>1130</td>\n      <td>170</td>\n      <td>125</td>\n      <td>880</td>\n      <td>165</td>\n      <td>470</td>\n      <td>400</td>\n      <td>775</td>\n    </tr>\n  </tbody>\n</table>\n<p>3 rows \u00d7 146 columns</p>\n</div>",
                        "text/plain": "    _id    Category                Topic                     Data Source  \\\n9    10  Population  Age characteristics  Census Profile 98-316-X2016001   \n13   14  Population  Age characteristics  Census Profile 98-316-X2016001   \n14   15  Population  Age characteristics  Census Profile 98-316-X2016001   \n\n               Characteristic  City of Toronto  Agincourt North  \\\n9       Children (0-14 years)           398135             3840   \n13        Seniors (65+ years)           426945             6045   \n14  Older Seniors (85+ years)            66000              925   \n\n    Agincourt South-Malvern West  Alderwood  Annex  ...  Willowdale West  \\\n9                           3075       1760   2360  ...             1785   \n13                          4105       2015   5910  ...             3370   \n14                           555        320   1040  ...              655   \n\n    Willowridge-Martingrove-Richview  Woburn  Woodbine Corridor  \\\n9                               3555    9625               2325   \n13                              4905    8010               1380   \n14                               885    1130                170   \n\n    Woodbine-Lumsden  Wychwood  Yonge-Eglinton  Yonge-St.Clair  \\\n9               1165      1860            1800            1210   \n13              1095      3150            1600            2905   \n14               125       880             165             470   \n\n    York University Heights  Yorkdale-Glen Park  \n9                      4045                1960  \n13                     3530                3295  \n14                      400                 775  \n\n[3 rows x 146 columns]"
                    },
                    "execution_count": 46,
                    "metadata": {},
                    "output_type": "execute_result"
                }
            ],
            "source": "vuln_age_df.head()"
        },
        {
            "cell_type": "code",
            "execution_count": 62,
            "metadata": {},
            "outputs": [
                {
                    "data": {
                        "text/html": "<div>\n<style scoped>\n    .dataframe tbody tr th:only-of-type {\n        vertical-align: middle;\n    }\n\n    .dataframe tbody tr th {\n        vertical-align: top;\n    }\n\n    .dataframe thead th {\n        text-align: right;\n    }\n</style>\n<table border=\"1\" class=\"dataframe\">\n  <thead>\n    <tr style=\"text-align: right;\">\n      <th></th>\n      <th>City of Toronto</th>\n      <th>Agincourt North</th>\n      <th>Agincourt South-Malvern West</th>\n      <th>Alderwood</th>\n      <th>Annex</th>\n      <th>Banbury-Don Mills</th>\n      <th>Bathurst Manor</th>\n      <th>Bay Street Corridor</th>\n      <th>Bayview Village</th>\n      <th>Bayview Woods-Steeles</th>\n      <th>...</th>\n      <th>Willowdale West</th>\n      <th>Willowridge-Martingrove-Richview</th>\n      <th>Woburn</th>\n      <th>Woodbine Corridor</th>\n      <th>Woodbine-Lumsden</th>\n      <th>Wychwood</th>\n      <th>Yonge-Eglinton</th>\n      <th>Yonge-St.Clair</th>\n      <th>York University Heights</th>\n      <th>Yorkdale-Glen Park</th>\n    </tr>\n  </thead>\n  <tbody>\n    <tr>\n      <th>9</th>\n      <td>398135</td>\n      <td>3840</td>\n      <td>3075</td>\n      <td>1760</td>\n      <td>2360</td>\n      <td>3605</td>\n      <td>2325</td>\n      <td>1695</td>\n      <td>2415</td>\n      <td>1515</td>\n      <td>...</td>\n      <td>1785</td>\n      <td>3555</td>\n      <td>9625</td>\n      <td>2325</td>\n      <td>1165</td>\n      <td>1860</td>\n      <td>1800</td>\n      <td>1210</td>\n      <td>4045</td>\n      <td>1960</td>\n    </tr>\n    <tr>\n      <th>13</th>\n      <td>426945</td>\n      <td>6045</td>\n      <td>4105</td>\n      <td>2015</td>\n      <td>5910</td>\n      <td>6975</td>\n      <td>2940</td>\n      <td>2420</td>\n      <td>3615</td>\n      <td>3685</td>\n      <td>...</td>\n      <td>3370</td>\n      <td>4905</td>\n      <td>8010</td>\n      <td>1380</td>\n      <td>1095</td>\n      <td>3150</td>\n      <td>1600</td>\n      <td>2905</td>\n      <td>3530</td>\n      <td>3295</td>\n    </tr>\n    <tr>\n      <th>14</th>\n      <td>66000</td>\n      <td>925</td>\n      <td>555</td>\n      <td>320</td>\n      <td>1040</td>\n      <td>1640</td>\n      <td>710</td>\n      <td>330</td>\n      <td>610</td>\n      <td>740</td>\n      <td>...</td>\n      <td>655</td>\n      <td>885</td>\n      <td>1130</td>\n      <td>170</td>\n      <td>125</td>\n      <td>880</td>\n      <td>165</td>\n      <td>470</td>\n      <td>400</td>\n      <td>775</td>\n    </tr>\n  </tbody>\n</table>\n<p>3 rows \u00d7 141 columns</p>\n</div>",
                        "text/plain": "    City of Toronto  Agincourt North  Agincourt South-Malvern West  Alderwood  \\\n9            398135             3840                          3075       1760   \n13           426945             6045                          4105       2015   \n14            66000              925                           555        320   \n\n    Annex  Banbury-Don Mills  Bathurst Manor  Bay Street Corridor  \\\n9    2360               3605            2325                 1695   \n13   5910               6975            2940                 2420   \n14   1040               1640             710                  330   \n\n    Bayview Village  Bayview Woods-Steeles  ...  Willowdale West  \\\n9              2415                   1515  ...             1785   \n13             3615                   3685  ...             3370   \n14              610                    740  ...              655   \n\n    Willowridge-Martingrove-Richview  Woburn  Woodbine Corridor  \\\n9                               3555    9625               2325   \n13                              4905    8010               1380   \n14                               885    1130                170   \n\n    Woodbine-Lumsden  Wychwood  Yonge-Eglinton  Yonge-St.Clair  \\\n9               1165      1860            1800            1210   \n13              1095      3150            1600            2905   \n14               125       880             165             470   \n\n    York University Heights  Yorkdale-Glen Park  \n9                      4045                1960  \n13                     3530                3295  \n14                      400                 775  \n\n[3 rows x 141 columns]"
                    },
                    "execution_count": 62,
                    "metadata": {},
                    "output_type": "execute_result"
                }
            ],
            "source": "age_num_vuln = vuln_age_df.loc[:, 'City of Toronto':'Yorkdale-Glen Park']\nage_num_vuln.head()"
        },
        {
            "cell_type": "markdown",
            "metadata": {},
            "source": "#### Adding new row for each neighbourhood"
        },
        {
            "cell_type": "code",
            "execution_count": 63,
            "metadata": {},
            "outputs": [],
            "source": "age_num_vuln.loc['Sum'] = age_num_vuln.sum()"
        },
        {
            "cell_type": "code",
            "execution_count": 50,
            "metadata": {},
            "outputs": [],
            "source": "#age_num_vuln.loc['Average'] = age_num_vuln.mean()"
        },
        {
            "cell_type": "code",
            "execution_count": 64,
            "metadata": {},
            "outputs": [
                {
                    "data": {
                        "text/html": "<div>\n<style scoped>\n    .dataframe tbody tr th:only-of-type {\n        vertical-align: middle;\n    }\n\n    .dataframe tbody tr th {\n        vertical-align: top;\n    }\n\n    .dataframe thead th {\n        text-align: right;\n    }\n</style>\n<table border=\"1\" class=\"dataframe\">\n  <thead>\n    <tr style=\"text-align: right;\">\n      <th></th>\n      <th>City of Toronto</th>\n      <th>Agincourt North</th>\n      <th>Agincourt South-Malvern West</th>\n      <th>Alderwood</th>\n      <th>Annex</th>\n      <th>Banbury-Don Mills</th>\n      <th>Bathurst Manor</th>\n      <th>Bay Street Corridor</th>\n      <th>Bayview Village</th>\n      <th>Bayview Woods-Steeles</th>\n      <th>...</th>\n      <th>Willowdale West</th>\n      <th>Willowridge-Martingrove-Richview</th>\n      <th>Woburn</th>\n      <th>Woodbine Corridor</th>\n      <th>Woodbine-Lumsden</th>\n      <th>Wychwood</th>\n      <th>Yonge-Eglinton</th>\n      <th>Yonge-St.Clair</th>\n      <th>York University Heights</th>\n      <th>Yorkdale-Glen Park</th>\n    </tr>\n  </thead>\n  <tbody>\n    <tr>\n      <th>9</th>\n      <td>398135</td>\n      <td>3840</td>\n      <td>3075</td>\n      <td>1760</td>\n      <td>2360</td>\n      <td>3605</td>\n      <td>2325</td>\n      <td>1695</td>\n      <td>2415</td>\n      <td>1515</td>\n      <td>...</td>\n      <td>1785</td>\n      <td>3555</td>\n      <td>9625</td>\n      <td>2325</td>\n      <td>1165</td>\n      <td>1860</td>\n      <td>1800</td>\n      <td>1210</td>\n      <td>4045</td>\n      <td>1960</td>\n    </tr>\n    <tr>\n      <th>13</th>\n      <td>426945</td>\n      <td>6045</td>\n      <td>4105</td>\n      <td>2015</td>\n      <td>5910</td>\n      <td>6975</td>\n      <td>2940</td>\n      <td>2420</td>\n      <td>3615</td>\n      <td>3685</td>\n      <td>...</td>\n      <td>3370</td>\n      <td>4905</td>\n      <td>8010</td>\n      <td>1380</td>\n      <td>1095</td>\n      <td>3150</td>\n      <td>1600</td>\n      <td>2905</td>\n      <td>3530</td>\n      <td>3295</td>\n    </tr>\n    <tr>\n      <th>14</th>\n      <td>66000</td>\n      <td>925</td>\n      <td>555</td>\n      <td>320</td>\n      <td>1040</td>\n      <td>1640</td>\n      <td>710</td>\n      <td>330</td>\n      <td>610</td>\n      <td>740</td>\n      <td>...</td>\n      <td>655</td>\n      <td>885</td>\n      <td>1130</td>\n      <td>170</td>\n      <td>125</td>\n      <td>880</td>\n      <td>165</td>\n      <td>470</td>\n      <td>400</td>\n      <td>775</td>\n    </tr>\n    <tr>\n      <th>Sum</th>\n      <td>891080</td>\n      <td>10810</td>\n      <td>7735</td>\n      <td>4095</td>\n      <td>9310</td>\n      <td>12220</td>\n      <td>5975</td>\n      <td>4445</td>\n      <td>6640</td>\n      <td>5940</td>\n      <td>...</td>\n      <td>5810</td>\n      <td>9345</td>\n      <td>18765</td>\n      <td>3875</td>\n      <td>2385</td>\n      <td>5890</td>\n      <td>3565</td>\n      <td>4585</td>\n      <td>7975</td>\n      <td>6030</td>\n    </tr>\n  </tbody>\n</table>\n<p>4 rows \u00d7 141 columns</p>\n</div>",
                        "text/plain": "     City of Toronto  Agincourt North  Agincourt South-Malvern West  \\\n9             398135             3840                          3075   \n13            426945             6045                          4105   \n14             66000              925                           555   \nSum           891080            10810                          7735   \n\n     Alderwood  Annex  Banbury-Don Mills  Bathurst Manor  Bay Street Corridor  \\\n9         1760   2360               3605            2325                 1695   \n13        2015   5910               6975            2940                 2420   \n14         320   1040               1640             710                  330   \nSum       4095   9310              12220            5975                 4445   \n\n     Bayview Village  Bayview Woods-Steeles  ...  Willowdale West  \\\n9               2415                   1515  ...             1785   \n13              3615                   3685  ...             3370   \n14               610                    740  ...              655   \nSum             6640                   5940  ...             5810   \n\n     Willowridge-Martingrove-Richview  Woburn  Woodbine Corridor  \\\n9                                3555    9625               2325   \n13                               4905    8010               1380   \n14                                885    1130                170   \nSum                              9345   18765               3875   \n\n     Woodbine-Lumsden  Wychwood  Yonge-Eglinton  Yonge-St.Clair  \\\n9                1165      1860            1800            1210   \n13               1095      3150            1600            2905   \n14                125       880             165             470   \nSum              2385      5890            3565            4585   \n\n     York University Heights  Yorkdale-Glen Park  \n9                       4045                1960  \n13                      3530                3295  \n14                       400                 775  \nSum                     7975                6030  \n\n[4 rows x 141 columns]"
                    },
                    "execution_count": 64,
                    "metadata": {},
                    "output_type": "execute_result"
                }
            ],
            "source": "age_num_vuln"
        },
        {
            "cell_type": "code",
            "execution_count": 65,
            "metadata": {},
            "outputs": [
                {
                    "name": "stdout",
                    "output_type": "stream",
                    "text": "Max: \n9       9625\n13      8990\n14      1640\nSum    18765\ndtype: int64\nMin: \n9       565\n13      730\n14       50\nSum    2190\ndtype: int64\nAvg: \n9      2843.964286\n13     3048.285714\n14      471.035714\nSum    6363.285714\ndtype: float64\n"
                }
            ],
            "source": "age_max_df = age_num_vuln.loc[:, 'Agincourt North':'Yorkdale-Glen Park'].max(axis=1)\nage_min_df = age_num_vuln.loc[:, 'Agincourt North': 'Yorkdale-Glen Park'].min(axis=1)\nage_avg_df = age_num_vuln.loc[:, 'Agincourt North': 'Yorkdale-Glen Park'].mean(axis=1)\n\nprint('Max: ')\nprint(age_max_df)\nprint('Min: ')\nprint(age_min_df)\nprint('Avg: ')\nprint(age_avg_df)"
        },
        {
            "cell_type": "markdown",
            "metadata": {},
            "source": "#### Another test"
        },
        {
            "cell_type": "code",
            "execution_count": 77,
            "metadata": {},
            "outputs": [
                {
                    "data": {
                        "text/html": "<div>\n<style scoped>\n    .dataframe tbody tr th:only-of-type {\n        vertical-align: middle;\n    }\n\n    .dataframe tbody tr th {\n        vertical-align: top;\n    }\n\n    .dataframe thead th {\n        text-align: right;\n    }\n</style>\n<table border=\"1\" class=\"dataframe\">\n  <thead>\n    <tr style=\"text-align: right;\">\n      <th></th>\n      <th>Agincourt North</th>\n      <th>Agincourt South-Malvern West</th>\n      <th>Alderwood</th>\n      <th>Annex</th>\n      <th>Banbury-Don Mills</th>\n      <th>Bathurst Manor</th>\n      <th>Bay Street Corridor</th>\n      <th>Bayview Village</th>\n      <th>Bayview Woods-Steeles</th>\n      <th>Bedford Park-Nortown</th>\n      <th>...</th>\n      <th>Willowdale West</th>\n      <th>Willowridge-Martingrove-Richview</th>\n      <th>Woburn</th>\n      <th>Woodbine Corridor</th>\n      <th>Woodbine-Lumsden</th>\n      <th>Wychwood</th>\n      <th>Yonge-Eglinton</th>\n      <th>Yonge-St.Clair</th>\n      <th>York University Heights</th>\n      <th>Yorkdale-Glen Park</th>\n    </tr>\n  </thead>\n  <tbody>\n    <tr>\n      <th>9</th>\n      <td>3840</td>\n      <td>3075</td>\n      <td>1760</td>\n      <td>2360</td>\n      <td>3605</td>\n      <td>2325</td>\n      <td>1695</td>\n      <td>2415</td>\n      <td>1515</td>\n      <td>4555</td>\n      <td>...</td>\n      <td>1785</td>\n      <td>3555</td>\n      <td>9625</td>\n      <td>2325</td>\n      <td>1165</td>\n      <td>1860</td>\n      <td>1800</td>\n      <td>1210</td>\n      <td>4045</td>\n      <td>1960</td>\n    </tr>\n    <tr>\n      <th>13</th>\n      <td>6045</td>\n      <td>4105</td>\n      <td>2015</td>\n      <td>5910</td>\n      <td>6975</td>\n      <td>2940</td>\n      <td>2420</td>\n      <td>3615</td>\n      <td>3685</td>\n      <td>3980</td>\n      <td>...</td>\n      <td>3370</td>\n      <td>4905</td>\n      <td>8010</td>\n      <td>1380</td>\n      <td>1095</td>\n      <td>3150</td>\n      <td>1600</td>\n      <td>2905</td>\n      <td>3530</td>\n      <td>3295</td>\n    </tr>\n    <tr>\n      <th>14</th>\n      <td>925</td>\n      <td>555</td>\n      <td>320</td>\n      <td>1040</td>\n      <td>1640</td>\n      <td>710</td>\n      <td>330</td>\n      <td>610</td>\n      <td>740</td>\n      <td>660</td>\n      <td>...</td>\n      <td>655</td>\n      <td>885</td>\n      <td>1130</td>\n      <td>170</td>\n      <td>125</td>\n      <td>880</td>\n      <td>165</td>\n      <td>470</td>\n      <td>400</td>\n      <td>775</td>\n    </tr>\n  </tbody>\n</table>\n<p>3 rows \u00d7 140 columns</p>\n</div>",
                        "text/plain": "    Agincourt North  Agincourt South-Malvern West  Alderwood  Annex  \\\n9              3840                          3075       1760   2360   \n13             6045                          4105       2015   5910   \n14              925                           555        320   1040   \n\n    Banbury-Don Mills  Bathurst Manor  Bay Street Corridor  Bayview Village  \\\n9                3605            2325                 1695             2415   \n13               6975            2940                 2420             3615   \n14               1640             710                  330              610   \n\n    Bayview Woods-Steeles  Bedford Park-Nortown  ...  Willowdale West  \\\n9                    1515                  4555  ...             1785   \n13                   3685                  3980  ...             3370   \n14                    740                   660  ...              655   \n\n    Willowridge-Martingrove-Richview  Woburn  Woodbine Corridor  \\\n9                               3555    9625               2325   \n13                              4905    8010               1380   \n14                               885    1130                170   \n\n    Woodbine-Lumsden  Wychwood  Yonge-Eglinton  Yonge-St.Clair  \\\n9               1165      1860            1800            1210   \n13              1095      3150            1600            2905   \n14               125       880             165             470   \n\n    York University Heights  Yorkdale-Glen Park  \n9                      4045                1960  \n13                     3530                3295  \n14                      400                 775  \n\n[3 rows x 140 columns]"
                    },
                    "execution_count": 77,
                    "metadata": {},
                    "output_type": "execute_result"
                }
            ],
            "source": "age_num_vuln2 = vuln_age_df.loc[:, 'Agincourt North':'Yorkdale-Glen Park']\nage_num_vuln2.head()"
        },
        {
            "cell_type": "code",
            "execution_count": 78,
            "metadata": {},
            "outputs": [
                {
                    "data": {
                        "text/html": "<div>\n<style scoped>\n    .dataframe tbody tr th:only-of-type {\n        vertical-align: middle;\n    }\n\n    .dataframe tbody tr th {\n        vertical-align: top;\n    }\n\n    .dataframe thead th {\n        text-align: right;\n    }\n</style>\n<table border=\"1\" class=\"dataframe\">\n  <thead>\n    <tr style=\"text-align: right;\">\n      <th></th>\n      <th>Agincourt North</th>\n      <th>Agincourt South-Malvern West</th>\n      <th>Alderwood</th>\n      <th>Annex</th>\n      <th>Banbury-Don Mills</th>\n      <th>Bathurst Manor</th>\n      <th>Bay Street Corridor</th>\n      <th>Bayview Village</th>\n      <th>Bayview Woods-Steeles</th>\n      <th>Bedford Park-Nortown</th>\n      <th>...</th>\n      <th>Willowdale West</th>\n      <th>Willowridge-Martingrove-Richview</th>\n      <th>Woburn</th>\n      <th>Woodbine Corridor</th>\n      <th>Woodbine-Lumsden</th>\n      <th>Wychwood</th>\n      <th>Yonge-Eglinton</th>\n      <th>Yonge-St.Clair</th>\n      <th>York University Heights</th>\n      <th>Yorkdale-Glen Park</th>\n    </tr>\n  </thead>\n  <tbody>\n    <tr>\n      <th>9</th>\n      <td>3840</td>\n      <td>3075</td>\n      <td>1760</td>\n      <td>2360</td>\n      <td>3605</td>\n      <td>2325</td>\n      <td>1695</td>\n      <td>2415</td>\n      <td>1515</td>\n      <td>4555</td>\n      <td>...</td>\n      <td>1785</td>\n      <td>3555</td>\n      <td>9625</td>\n      <td>2325</td>\n      <td>1165</td>\n      <td>1860</td>\n      <td>1800</td>\n      <td>1210</td>\n      <td>4045</td>\n      <td>1960</td>\n    </tr>\n    <tr>\n      <th>13</th>\n      <td>6045</td>\n      <td>4105</td>\n      <td>2015</td>\n      <td>5910</td>\n      <td>6975</td>\n      <td>2940</td>\n      <td>2420</td>\n      <td>3615</td>\n      <td>3685</td>\n      <td>3980</td>\n      <td>...</td>\n      <td>3370</td>\n      <td>4905</td>\n      <td>8010</td>\n      <td>1380</td>\n      <td>1095</td>\n      <td>3150</td>\n      <td>1600</td>\n      <td>2905</td>\n      <td>3530</td>\n      <td>3295</td>\n    </tr>\n    <tr>\n      <th>14</th>\n      <td>925</td>\n      <td>555</td>\n      <td>320</td>\n      <td>1040</td>\n      <td>1640</td>\n      <td>710</td>\n      <td>330</td>\n      <td>610</td>\n      <td>740</td>\n      <td>660</td>\n      <td>...</td>\n      <td>655</td>\n      <td>885</td>\n      <td>1130</td>\n      <td>170</td>\n      <td>125</td>\n      <td>880</td>\n      <td>165</td>\n      <td>470</td>\n      <td>400</td>\n      <td>775</td>\n    </tr>\n    <tr>\n      <th>Sum</th>\n      <td>10810</td>\n      <td>7735</td>\n      <td>4095</td>\n      <td>9310</td>\n      <td>12220</td>\n      <td>5975</td>\n      <td>4445</td>\n      <td>6640</td>\n      <td>5940</td>\n      <td>9195</td>\n      <td>...</td>\n      <td>5810</td>\n      <td>9345</td>\n      <td>18765</td>\n      <td>3875</td>\n      <td>2385</td>\n      <td>5890</td>\n      <td>3565</td>\n      <td>4585</td>\n      <td>7975</td>\n      <td>6030</td>\n    </tr>\n  </tbody>\n</table>\n<p>4 rows \u00d7 140 columns</p>\n</div>",
                        "text/plain": "     Agincourt North  Agincourt South-Malvern West  Alderwood  Annex  \\\n9               3840                          3075       1760   2360   \n13              6045                          4105       2015   5910   \n14               925                           555        320   1040   \nSum            10810                          7735       4095   9310   \n\n     Banbury-Don Mills  Bathurst Manor  Bay Street Corridor  Bayview Village  \\\n9                 3605            2325                 1695             2415   \n13                6975            2940                 2420             3615   \n14                1640             710                  330              610   \nSum              12220            5975                 4445             6640   \n\n     Bayview Woods-Steeles  Bedford Park-Nortown  ...  Willowdale West  \\\n9                     1515                  4555  ...             1785   \n13                    3685                  3980  ...             3370   \n14                     740                   660  ...              655   \nSum                   5940                  9195  ...             5810   \n\n     Willowridge-Martingrove-Richview  Woburn  Woodbine Corridor  \\\n9                                3555    9625               2325   \n13                               4905    8010               1380   \n14                                885    1130                170   \nSum                              9345   18765               3875   \n\n     Woodbine-Lumsden  Wychwood  Yonge-Eglinton  Yonge-St.Clair  \\\n9                1165      1860            1800            1210   \n13               1095      3150            1600            2905   \n14                125       880             165             470   \nSum              2385      5890            3565            4585   \n\n     York University Heights  Yorkdale-Glen Park  \n9                       4045                1960  \n13                      3530                3295  \n14                       400                 775  \nSum                     7975                6030  \n\n[4 rows x 140 columns]"
                    },
                    "execution_count": 78,
                    "metadata": {},
                    "output_type": "execute_result"
                }
            ],
            "source": "age_num_vuln2.loc['Sum'] = age_num_vuln2.sum()\nage_num_vuln2"
        },
        {
            "cell_type": "code",
            "execution_count": 79,
            "metadata": {},
            "outputs": [
                {
                    "name": "stdout",
                    "output_type": "stream",
                    "text": "Max: \n9       9625\n13      8990\n14      1640\nSum    18765\ndtype: int64\nMin: \n9       565\n13      730\n14       50\nSum    2190\ndtype: int64\nAvg: \n9      2843.964286\n13     3048.285714\n14      471.035714\nSum    6363.285714\ndtype: float64\n"
                }
            ],
            "source": "age_max_df = age_num_vuln2.loc[:, 'Agincourt North':'Yorkdale-Glen Park'].max(axis=1)\nage_min_df = age_num_vuln2.loc[:, 'Agincourt North': 'Yorkdale-Glen Park'].min(axis=1)\nage_avg_df = age_num_vuln2.loc[:, 'Agincourt North': 'Yorkdale-Glen Park'].mean(axis=1)\n\nprint('Max: ')\nprint(age_max_df)\nprint('Min: ')\nprint(age_min_df)\nprint('Avg: ')\nprint(age_avg_df)"
        },
        {
            "cell_type": "code",
            "execution_count": null,
            "metadata": {},
            "outputs": [],
            "source": ""
        },
        {
            "cell_type": "markdown",
            "metadata": {},
            "source": "#### Using the mean of the sum, get top 15 neighbourhoods based on larger size"
        },
        {
            "cell_type": "code",
            "execution_count": 80,
            "metadata": {},
            "outputs": [
                {
                    "data": {
                        "text/html": "<div>\n<style scoped>\n    .dataframe tbody tr th:only-of-type {\n        vertical-align: middle;\n    }\n\n    .dataframe tbody tr th {\n        vertical-align: top;\n    }\n\n    .dataframe thead th {\n        text-align: right;\n    }\n</style>\n<table border=\"1\" class=\"dataframe\">\n  <thead>\n    <tr style=\"text-align: right;\">\n      <th></th>\n      <th>Woburn</th>\n      <th>L'Amoreaux</th>\n      <th>Rouge</th>\n      <th>Islington-City Centre West</th>\n      <th>Malvern</th>\n      <th>Willowdale East</th>\n      <th>Banbury-Don Mills</th>\n      <th>Downsview-Roding-CFB</th>\n      <th>Parkwoods-Donalda</th>\n      <th>Glenfield-Jane Heights</th>\n      <th>...</th>\n      <th>Caledonia-Fairbank</th>\n      <th>Dufferin Grove</th>\n      <th>Long Branch</th>\n      <th>Lambton Baby Point</th>\n      <th>Playter Estates-Danforth</th>\n      <th>Blake-Jones</th>\n      <th>Regent Park</th>\n      <th>Woodbine-Lumsden</th>\n      <th>Beechborough-Greenbrook</th>\n      <th>University</th>\n    </tr>\n  </thead>\n  <tbody>\n    <tr>\n      <th>9</th>\n      <td>9625</td>\n      <td>6120</td>\n      <td>7960</td>\n      <td>5820</td>\n      <td>7910</td>\n      <td>5920</td>\n      <td>3605</td>\n      <td>5725</td>\n      <td>5840</td>\n      <td>5790</td>\n      <td>...</td>\n      <td>1490</td>\n      <td>1285</td>\n      <td>1335</td>\n      <td>1695</td>\n      <td>1150</td>\n      <td>1405</td>\n      <td>1635</td>\n      <td>1165</td>\n      <td>1120</td>\n      <td>565</td>\n    </tr>\n    <tr>\n      <th>13</th>\n      <td>8010</td>\n      <td>8990</td>\n      <td>6625</td>\n      <td>7405</td>\n      <td>5890</td>\n      <td>6270</td>\n      <td>6975</td>\n      <td>5535</td>\n      <td>5250</td>\n      <td>5005</td>\n      <td>...</td>\n      <td>1325</td>\n      <td>1515</td>\n      <td>1405</td>\n      <td>1025</td>\n      <td>1220</td>\n      <td>895</td>\n      <td>730</td>\n      <td>1095</td>\n      <td>965</td>\n      <td>1320</td>\n    </tr>\n    <tr>\n      <th>14</th>\n      <td>1130</td>\n      <td>1345</td>\n      <td>685</td>\n      <td>1480</td>\n      <td>445</td>\n      <td>830</td>\n      <td>1640</td>\n      <td>870</td>\n      <td>775</td>\n      <td>700</td>\n      <td>...</td>\n      <td>165</td>\n      <td>175</td>\n      <td>140</td>\n      <td>140</td>\n      <td>195</td>\n      <td>115</td>\n      <td>50</td>\n      <td>125</td>\n      <td>145</td>\n      <td>305</td>\n    </tr>\n    <tr>\n      <th>Sum</th>\n      <td>18765</td>\n      <td>16455</td>\n      <td>15270</td>\n      <td>14705</td>\n      <td>14245</td>\n      <td>13020</td>\n      <td>12220</td>\n      <td>12130</td>\n      <td>11865</td>\n      <td>11495</td>\n      <td>...</td>\n      <td>2980</td>\n      <td>2975</td>\n      <td>2880</td>\n      <td>2860</td>\n      <td>2565</td>\n      <td>2415</td>\n      <td>2415</td>\n      <td>2385</td>\n      <td>2230</td>\n      <td>2190</td>\n    </tr>\n  </tbody>\n</table>\n<p>4 rows \u00d7 140 columns</p>\n</div>",
                        "text/plain": "     Woburn  L'Amoreaux  Rouge  Islington-City Centre West  Malvern  \\\n9      9625        6120   7960                        5820     7910   \n13     8010        8990   6625                        7405     5890   \n14     1130        1345    685                        1480      445   \nSum   18765       16455  15270                       14705    14245   \n\n     Willowdale East  Banbury-Don Mills  Downsview-Roding-CFB  \\\n9               5920               3605                  5725   \n13              6270               6975                  5535   \n14               830               1640                   870   \nSum            13020              12220                 12130   \n\n     Parkwoods-Donalda  Glenfield-Jane Heights  ...  Caledonia-Fairbank  \\\n9                 5840                    5790  ...                1490   \n13                5250                    5005  ...                1325   \n14                 775                     700  ...                 165   \nSum              11865                   11495  ...                2980   \n\n     Dufferin Grove  Long Branch  Lambton Baby Point  \\\n9              1285         1335                1695   \n13             1515         1405                1025   \n14              175          140                 140   \nSum            2975         2880                2860   \n\n     Playter Estates-Danforth  Blake-Jones  Regent Park  Woodbine-Lumsden  \\\n9                        1150         1405         1635              1165   \n13                       1220          895          730              1095   \n14                        195          115           50               125   \nSum                      2565         2415         2415              2385   \n\n     Beechborough-Greenbrook  University  \n9                       1120         565  \n13                       965        1320  \n14                       145         305  \nSum                     2230        2190  \n\n[4 rows x 140 columns]"
                    },
                    "execution_count": 80,
                    "metadata": {},
                    "output_type": "execute_result"
                }
            ],
            "source": "age_num_vuln3 = age_num_vuln2.loc[:, age_num_vuln2.max().sort_values(ascending=False).index]\n\nage_num_vuln3"
        },
        {
            "cell_type": "code",
            "execution_count": null,
            "metadata": {},
            "outputs": [],
            "source": ""
        },
        {
            "cell_type": "code",
            "execution_count": null,
            "metadata": {},
            "outputs": [],
            "source": ""
        },
        {
            "cell_type": "code",
            "execution_count": 61,
            "metadata": {},
            "outputs": [],
            "source": "#age_num_vuln.drop(['Average'])\n#age_num_vuln"
        },
        {
            "cell_type": "code",
            "execution_count": 18,
            "metadata": {},
            "outputs": [],
            "source": "#age_stats_df.head()"
        },
        {
            "cell_type": "code",
            "execution_count": 19,
            "metadata": {},
            "outputs": [],
            "source": "#val_check_1 = age_stats_df['City of Toronto'].values[0]\n#print(val_check_1)\n#type(val_check_1)"
        },
        {
            "cell_type": "markdown",
            "metadata": {},
            "source": "## End of test area"
        },
        {
            "cell_type": "markdown",
            "metadata": {},
            "source": "### Isolate rows to only the ones having children and seniors"
        },
        {
            "cell_type": "code",
            "execution_count": 20,
            "metadata": {},
            "outputs": [],
            "source": "vuln_age_df = age_stats_df[(age_stats_df.Characteristic == 'Children (0-14 years)') | (age_stats_df.Characteristic == 'Seniors (65+ years)') | (age_stats_df.Characteristic == 'Older Seniors (85+ years)')]\n"
        },
        {
            "cell_type": "code",
            "execution_count": 21,
            "metadata": {},
            "outputs": [
                {
                    "data": {
                        "text/html": "<div>\n<style scoped>\n    .dataframe tbody tr th:only-of-type {\n        vertical-align: middle;\n    }\n\n    .dataframe tbody tr th {\n        vertical-align: top;\n    }\n\n    .dataframe thead th {\n        text-align: right;\n    }\n</style>\n<table border=\"1\" class=\"dataframe\">\n  <thead>\n    <tr style=\"text-align: right;\">\n      <th></th>\n      <th>_id</th>\n      <th>Category</th>\n      <th>Topic</th>\n      <th>Data Source</th>\n      <th>Characteristic</th>\n      <th>City of Toronto</th>\n      <th>Agincourt North</th>\n      <th>Agincourt South-Malvern West</th>\n      <th>Alderwood</th>\n      <th>Annex</th>\n      <th>...</th>\n      <th>Willowdale West</th>\n      <th>Willowridge-Martingrove-Richview</th>\n      <th>Woburn</th>\n      <th>Woodbine Corridor</th>\n      <th>Woodbine-Lumsden</th>\n      <th>Wychwood</th>\n      <th>Yonge-Eglinton</th>\n      <th>Yonge-St.Clair</th>\n      <th>York University Heights</th>\n      <th>Yorkdale-Glen Park</th>\n    </tr>\n  </thead>\n  <tbody>\n    <tr>\n      <th>9</th>\n      <td>10</td>\n      <td>Population</td>\n      <td>Age characteristics</td>\n      <td>Census Profile 98-316-X2016001</td>\n      <td>Children (0-14 years)</td>\n      <td>398135</td>\n      <td>3840</td>\n      <td>3075</td>\n      <td>1760</td>\n      <td>2360</td>\n      <td>...</td>\n      <td>1785</td>\n      <td>3555</td>\n      <td>9625</td>\n      <td>2325</td>\n      <td>1165</td>\n      <td>1860</td>\n      <td>1800</td>\n      <td>1210</td>\n      <td>4045</td>\n      <td>1960</td>\n    </tr>\n    <tr>\n      <th>13</th>\n      <td>14</td>\n      <td>Population</td>\n      <td>Age characteristics</td>\n      <td>Census Profile 98-316-X2016001</td>\n      <td>Seniors (65+ years)</td>\n      <td>426945</td>\n      <td>6045</td>\n      <td>4105</td>\n      <td>2015</td>\n      <td>5910</td>\n      <td>...</td>\n      <td>3370</td>\n      <td>4905</td>\n      <td>8010</td>\n      <td>1380</td>\n      <td>1095</td>\n      <td>3150</td>\n      <td>1600</td>\n      <td>2905</td>\n      <td>3530</td>\n      <td>3295</td>\n    </tr>\n    <tr>\n      <th>14</th>\n      <td>15</td>\n      <td>Population</td>\n      <td>Age characteristics</td>\n      <td>Census Profile 98-316-X2016001</td>\n      <td>Older Seniors (85+ years)</td>\n      <td>66000</td>\n      <td>925</td>\n      <td>555</td>\n      <td>320</td>\n      <td>1040</td>\n      <td>...</td>\n      <td>655</td>\n      <td>885</td>\n      <td>1130</td>\n      <td>170</td>\n      <td>125</td>\n      <td>880</td>\n      <td>165</td>\n      <td>470</td>\n      <td>400</td>\n      <td>775</td>\n    </tr>\n  </tbody>\n</table>\n<p>3 rows \u00d7 146 columns</p>\n</div>",
                        "text/plain": "    _id    Category                Topic                     Data Source  \\\n9    10  Population  Age characteristics  Census Profile 98-316-X2016001   \n13   14  Population  Age characteristics  Census Profile 98-316-X2016001   \n14   15  Population  Age characteristics  Census Profile 98-316-X2016001   \n\n               Characteristic  City of Toronto  Agincourt North  \\\n9       Children (0-14 years)           398135             3840   \n13        Seniors (65+ years)           426945             6045   \n14  Older Seniors (85+ years)            66000              925   \n\n    Agincourt South-Malvern West  Alderwood  Annex  ...  Willowdale West  \\\n9                           3075       1760   2360  ...             1785   \n13                          4105       2015   5910  ...             3370   \n14                           555        320   1040  ...              655   \n\n    Willowridge-Martingrove-Richview  Woburn  Woodbine Corridor  \\\n9                               3555    9625               2325   \n13                              4905    8010               1380   \n14                               885    1130                170   \n\n    Woodbine-Lumsden  Wychwood  Yonge-Eglinton  Yonge-St.Clair  \\\n9               1165      1860            1800            1210   \n13              1095      3150            1600            2905   \n14               125       880             165             470   \n\n    York University Heights  Yorkdale-Glen Park  \n9                      4045                1960  \n13                     3530                3295  \n14                      400                 775  \n\n[3 rows x 146 columns]"
                    },
                    "execution_count": 21,
                    "metadata": {},
                    "output_type": "execute_result"
                }
            ],
            "source": "vuln_age_df.head()"
        },
        {
            "cell_type": "markdown",
            "metadata": {},
            "source": "### In df_4, remove commas and turn numbers of type string into float"
        },
        {
            "cell_type": "code",
            "execution_count": 22,
            "metadata": {},
            "outputs": [],
            "source": "#df4_num = df_4.loc[:, 'City of Toronto':'Yorkdale-Glen Park']\n#df4_num.head()\n\n#df4_num_new = df4_num.replace(',','', regex=True)\n#c = df4_num_new.select_dtypes(object).columns\n#df4_num_new[c] = df4_num_new[c].apply(pd.to_numeric,errors='coerce')"
        },
        {
            "cell_type": "markdown",
            "metadata": {},
            "source": "### Neighbourhood number and Vulnerable age population dataframes combined"
        },
        {
            "cell_type": "code",
            "execution_count": 23,
            "metadata": {},
            "outputs": [
                {
                    "data": {
                        "text/html": "<div>\n<style scoped>\n    .dataframe tbody tr th:only-of-type {\n        vertical-align: middle;\n    }\n\n    .dataframe tbody tr th {\n        vertical-align: top;\n    }\n\n    .dataframe thead th {\n        text-align: right;\n    }\n</style>\n<table border=\"1\" class=\"dataframe\">\n  <thead>\n    <tr style=\"text-align: right;\">\n      <th></th>\n      <th>_id</th>\n      <th>Category</th>\n      <th>Topic</th>\n      <th>Data Source</th>\n      <th>Characteristic</th>\n      <th>City of Toronto</th>\n      <th>Agincourt North</th>\n      <th>Agincourt South-Malvern West</th>\n      <th>Alderwood</th>\n      <th>Annex</th>\n      <th>...</th>\n      <th>Willowdale West</th>\n      <th>Willowridge-Martingrove-Richview</th>\n      <th>Woburn</th>\n      <th>Woodbine Corridor</th>\n      <th>Woodbine-Lumsden</th>\n      <th>Wychwood</th>\n      <th>Yonge-Eglinton</th>\n      <th>Yonge-St.Clair</th>\n      <th>York University Heights</th>\n      <th>Yorkdale-Glen Park</th>\n    </tr>\n  </thead>\n  <tbody>\n    <tr>\n      <th>0</th>\n      <td>1</td>\n      <td>Neighbourhood Information</td>\n      <td>Neighbourhood Information</td>\n      <td>City of Toronto</td>\n      <td>Neighbourhood Number</td>\n      <td>NaN</td>\n      <td>129</td>\n      <td>128</td>\n      <td>20</td>\n      <td>95</td>\n      <td>...</td>\n      <td>37</td>\n      <td>7</td>\n      <td>137</td>\n      <td>64</td>\n      <td>60</td>\n      <td>94</td>\n      <td>100</td>\n      <td>97</td>\n      <td>27</td>\n      <td>31</td>\n    </tr>\n    <tr>\n      <th>9</th>\n      <td>10</td>\n      <td>Population</td>\n      <td>Age characteristics</td>\n      <td>Census Profile 98-316-X2016001</td>\n      <td>Children (0-14 years)</td>\n      <td>398135</td>\n      <td>3840</td>\n      <td>3075</td>\n      <td>1760</td>\n      <td>2360</td>\n      <td>...</td>\n      <td>1785</td>\n      <td>3555</td>\n      <td>9625</td>\n      <td>2325</td>\n      <td>1165</td>\n      <td>1860</td>\n      <td>1800</td>\n      <td>1210</td>\n      <td>4045</td>\n      <td>1960</td>\n    </tr>\n    <tr>\n      <th>13</th>\n      <td>14</td>\n      <td>Population</td>\n      <td>Age characteristics</td>\n      <td>Census Profile 98-316-X2016001</td>\n      <td>Seniors (65+ years)</td>\n      <td>426945</td>\n      <td>6045</td>\n      <td>4105</td>\n      <td>2015</td>\n      <td>5910</td>\n      <td>...</td>\n      <td>3370</td>\n      <td>4905</td>\n      <td>8010</td>\n      <td>1380</td>\n      <td>1095</td>\n      <td>3150</td>\n      <td>1600</td>\n      <td>2905</td>\n      <td>3530</td>\n      <td>3295</td>\n    </tr>\n    <tr>\n      <th>14</th>\n      <td>15</td>\n      <td>Population</td>\n      <td>Age characteristics</td>\n      <td>Census Profile 98-316-X2016001</td>\n      <td>Older Seniors (85+ years)</td>\n      <td>66000</td>\n      <td>925</td>\n      <td>555</td>\n      <td>320</td>\n      <td>1040</td>\n      <td>...</td>\n      <td>655</td>\n      <td>885</td>\n      <td>1130</td>\n      <td>170</td>\n      <td>125</td>\n      <td>880</td>\n      <td>165</td>\n      <td>470</td>\n      <td>400</td>\n      <td>775</td>\n    </tr>\n  </tbody>\n</table>\n<p>4 rows \u00d7 146 columns</p>\n</div>",
                        "text/plain": "    _id                   Category                      Topic  \\\n0     1  Neighbourhood Information  Neighbourhood Information   \n9    10                 Population        Age characteristics   \n13   14                 Population        Age characteristics   \n14   15                 Population        Age characteristics   \n\n                       Data Source             Characteristic City of Toronto  \\\n0                  City of Toronto       Neighbourhood Number             NaN   \n9   Census Profile 98-316-X2016001      Children (0-14 years)          398135   \n13  Census Profile 98-316-X2016001        Seniors (65+ years)          426945   \n14  Census Profile 98-316-X2016001  Older Seniors (85+ years)           66000   \n\n   Agincourt North Agincourt South-Malvern West Alderwood Annex  ...  \\\n0              129                          128        20    95  ...   \n9             3840                         3075      1760  2360  ...   \n13            6045                         4105      2015  5910  ...   \n14             925                          555       320  1040  ...   \n\n   Willowdale West Willowridge-Martingrove-Richview Woburn Woodbine Corridor  \\\n0               37                                7    137                64   \n9             1785                             3555   9625              2325   \n13            3370                             4905   8010              1380   \n14             655                              885   1130               170   \n\n   Woodbine-Lumsden Wychwood Yonge-Eglinton Yonge-St.Clair  \\\n0                60       94            100             97   \n9              1165     1860           1800           1210   \n13             1095     3150           1600           2905   \n14              125      880            165            470   \n\n   York University Heights Yorkdale-Glen Park  \n0                       27                 31  \n9                     4045               1960  \n13                    3530               3295  \n14                     400                775  \n\n[4 rows x 146 columns]"
                    },
                    "execution_count": 23,
                    "metadata": {},
                    "output_type": "execute_result"
                }
            ],
            "source": "together_df = pd.concat([neighbourhood_num_df, vuln_age_df])\ntogether_df.head()"
        },
        {
            "cell_type": "code",
            "execution_count": 24,
            "metadata": {},
            "outputs": [],
            "source": "#avg_2 = ppl_neighbourhood_df.loc[:, 'City of Toronto':'Yorkdale-Glen Park']\n#avg_2.head()"
        },
        {
            "cell_type": "markdown",
            "metadata": {},
            "source": "### Population per neighbourhood "
        },
        {
            "cell_type": "code",
            "execution_count": 25,
            "metadata": {},
            "outputs": [
                {
                    "data": {
                        "text/html": "<div>\n<style scoped>\n    .dataframe tbody tr th:only-of-type {\n        vertical-align: middle;\n    }\n\n    .dataframe tbody tr th {\n        vertical-align: top;\n    }\n\n    .dataframe thead th {\n        text-align: right;\n    }\n</style>\n<table border=\"1\" class=\"dataframe\">\n  <thead>\n    <tr style=\"text-align: right;\">\n      <th></th>\n      <th>_id</th>\n      <th>Category</th>\n      <th>Topic</th>\n      <th>Data Source</th>\n      <th>Characteristic</th>\n      <th>City of Toronto</th>\n      <th>Agincourt North</th>\n      <th>Agincourt South-Malvern West</th>\n      <th>Alderwood</th>\n      <th>Annex</th>\n      <th>...</th>\n      <th>Willowdale West</th>\n      <th>Willowridge-Martingrove-Richview</th>\n      <th>Woburn</th>\n      <th>Woodbine Corridor</th>\n      <th>Woodbine-Lumsden</th>\n      <th>Wychwood</th>\n      <th>Yonge-Eglinton</th>\n      <th>Yonge-St.Clair</th>\n      <th>York University Heights</th>\n      <th>Yorkdale-Glen Park</th>\n    </tr>\n  </thead>\n  <tbody>\n    <tr>\n      <th>7</th>\n      <td>8</td>\n      <td>Population</td>\n      <td>Population and dwellings</td>\n      <td>Census Profile 98-316-X2016001</td>\n      <td>Population density per square kilometre</td>\n      <td>4,334</td>\n      <td>3,929</td>\n      <td>3,034</td>\n      <td>2,435</td>\n      <td>10,863</td>\n      <td>...</td>\n      <td>5,820</td>\n      <td>4,007</td>\n      <td>4,345</td>\n      <td>7,838</td>\n      <td>6,722</td>\n      <td>8,541</td>\n      <td>7,162</td>\n      <td>10,708</td>\n      <td>2,086</td>\n      <td>2,451</td>\n    </tr>\n    <tr>\n      <th>8</th>\n      <td>9</td>\n      <td>Population</td>\n      <td>Population and dwellings</td>\n      <td>Census Profile 98-316-X2016001</td>\n      <td>Land area in square kilometres</td>\n      <td>630.2</td>\n      <td>7.41</td>\n      <td>7.83</td>\n      <td>4.95</td>\n      <td>2.81</td>\n      <td>...</td>\n      <td>2.91</td>\n      <td>5.53</td>\n      <td>12.31</td>\n      <td>1.6</td>\n      <td>1.17</td>\n      <td>1.68</td>\n      <td>1.65</td>\n      <td>1.17</td>\n      <td>13.23</td>\n      <td>6.04</td>\n    </tr>\n  </tbody>\n</table>\n<p>2 rows \u00d7 146 columns</p>\n</div>",
                        "text/plain": "   _id    Category                     Topic                     Data Source  \\\n7    8  Population  Population and dwellings  Census Profile 98-316-X2016001   \n8    9  Population  Population and dwellings  Census Profile 98-316-X2016001   \n\n                            Characteristic City of Toronto Agincourt North  \\\n7  Population density per square kilometre           4,334           3,929   \n8           Land area in square kilometres           630.2            7.41   \n\n  Agincourt South-Malvern West Alderwood   Annex  ... Willowdale West  \\\n7                        3,034     2,435  10,863  ...           5,820   \n8                         7.83      4.95    2.81  ...            2.91   \n\n  Willowridge-Martingrove-Richview Woburn Woodbine Corridor Woodbine-Lumsden  \\\n7                            4,007  4,345             7,838            6,722   \n8                             5.53  12.31               1.6             1.17   \n\n  Wychwood Yonge-Eglinton Yonge-St.Clair York University Heights  \\\n7    8,541          7,162         10,708                   2,086   \n8     1.68           1.65           1.17                   13.23   \n\n  Yorkdale-Glen Park  \n7              2,451  \n8               6.04  \n\n[2 rows x 146 columns]"
                    },
                    "execution_count": 25,
                    "metadata": {},
                    "output_type": "execute_result"
                }
            ],
            "source": "ppl_neighbourhood_df = demographics_df[(demographics_df.Characteristic == 'Population density per square kilometre') | (demographics_df.Characteristic == 'Land area in square kilometres')]\n\nppl_neighbourhood_df.head()"
        },
        {
            "cell_type": "code",
            "execution_count": 26,
            "metadata": {},
            "outputs": [
                {
                    "data": {
                        "text/html": "<div>\n<style scoped>\n    .dataframe tbody tr th:only-of-type {\n        vertical-align: middle;\n    }\n\n    .dataframe tbody tr th {\n        vertical-align: top;\n    }\n\n    .dataframe thead th {\n        text-align: right;\n    }\n</style>\n<table border=\"1\" class=\"dataframe\">\n  <thead>\n    <tr style=\"text-align: right;\">\n      <th></th>\n      <th>_id</th>\n      <th>Category</th>\n      <th>Topic</th>\n      <th>Data Source</th>\n      <th>Characteristic</th>\n      <th>City of Toronto</th>\n      <th>Agincourt North</th>\n      <th>Agincourt South-Malvern West</th>\n      <th>Alderwood</th>\n      <th>Annex</th>\n      <th>...</th>\n      <th>Willowdale West</th>\n      <th>Willowridge-Martingrove-Richview</th>\n      <th>Woburn</th>\n      <th>Woodbine Corridor</th>\n      <th>Woodbine-Lumsden</th>\n      <th>Wychwood</th>\n      <th>Yonge-Eglinton</th>\n      <th>Yonge-St.Clair</th>\n      <th>York University Heights</th>\n      <th>Yorkdale-Glen Park</th>\n    </tr>\n  </thead>\n  <tbody>\n    <tr>\n      <th>7</th>\n      <td>8</td>\n      <td>Population</td>\n      <td>Population and dwellings</td>\n      <td>Census Profile 98-316-X2016001</td>\n      <td>Population density per square kilometre</td>\n      <td>4334.0</td>\n      <td>3929.00</td>\n      <td>3034.00</td>\n      <td>2435.00</td>\n      <td>10863.00</td>\n      <td>...</td>\n      <td>5820.00</td>\n      <td>4007.00</td>\n      <td>4345.00</td>\n      <td>7838.0</td>\n      <td>6722.00</td>\n      <td>8541.00</td>\n      <td>7162.00</td>\n      <td>10708.00</td>\n      <td>2086.00</td>\n      <td>2451.00</td>\n    </tr>\n    <tr>\n      <th>8</th>\n      <td>9</td>\n      <td>Population</td>\n      <td>Population and dwellings</td>\n      <td>Census Profile 98-316-X2016001</td>\n      <td>Land area in square kilometres</td>\n      <td>630.2</td>\n      <td>7.41</td>\n      <td>7.83</td>\n      <td>4.95</td>\n      <td>2.81</td>\n      <td>...</td>\n      <td>2.91</td>\n      <td>5.53</td>\n      <td>12.31</td>\n      <td>1.6</td>\n      <td>1.17</td>\n      <td>1.68</td>\n      <td>1.65</td>\n      <td>1.17</td>\n      <td>13.23</td>\n      <td>6.04</td>\n    </tr>\n  </tbody>\n</table>\n<p>2 rows \u00d7 146 columns</p>\n</div>",
                        "text/plain": "   _id    Category                     Topic                     Data Source  \\\n7    8  Population  Population and dwellings  Census Profile 98-316-X2016001   \n8    9  Population  Population and dwellings  Census Profile 98-316-X2016001   \n\n                            Characteristic  City of Toronto  Agincourt North  \\\n7  Population density per square kilometre           4334.0          3929.00   \n8           Land area in square kilometres            630.2             7.41   \n\n   Agincourt South-Malvern West  Alderwood     Annex  ...  Willowdale West  \\\n7                       3034.00    2435.00  10863.00  ...          5820.00   \n8                          7.83       4.95      2.81  ...             2.91   \n\n   Willowridge-Martingrove-Richview   Woburn  Woodbine Corridor  \\\n7                           4007.00  4345.00             7838.0   \n8                              5.53    12.31                1.6   \n\n   Woodbine-Lumsden  Wychwood  Yonge-Eglinton  Yonge-St.Clair  \\\n7           6722.00   8541.00         7162.00        10708.00   \n8              1.17      1.68            1.65            1.17   \n\n   York University Heights  Yorkdale-Glen Park  \n7                  2086.00             2451.00  \n8                    13.23                6.04  \n\n[2 rows x 146 columns]"
                    },
                    "execution_count": 26,
                    "metadata": {},
                    "output_type": "execute_result"
                }
            ],
            "source": "#turn to numeric values\n\nppl_neighbourhood_df = ppl_neighbourhood_df.replace(',','', regex=True)\n\nppl_neighbourhood_df.loc[:, 'City of Toronto':'Yorkdale-Glen Park'] = ppl_neighbourhood_df.loc[:, 'City of Toronto':'Yorkdale-Glen Park'].apply(pd.to_numeric) \n\nppl_neighbourhood_df.head()"
        },
        {
            "cell_type": "code",
            "execution_count": 27,
            "metadata": {},
            "outputs": [],
            "source": "#avg = ppl_neighbourhood_df.loc[:, 'Agincourt North':'Yorkdale-Glen Park']"
        },
        {
            "cell_type": "code",
            "execution_count": 28,
            "metadata": {},
            "outputs": [],
            "source": "#avg.head()"
        },
        {
            "cell_type": "code",
            "execution_count": 29,
            "metadata": {},
            "outputs": [],
            "source": "#avg_between = ppl_neighbourhood_df.loc[:, 'Agincourt North':'Yorkdale-Glen Park'].mean(axis=0)"
        },
        {
            "cell_type": "code",
            "execution_count": 30,
            "metadata": {},
            "outputs": [],
            "source": "#print(avg_between)"
        },
        {
            "cell_type": "code",
            "execution_count": 31,
            "metadata": {},
            "outputs": [],
            "source": "#avg_between.to_frame()"
        },
        {
            "cell_type": "code",
            "execution_count": 32,
            "metadata": {},
            "outputs": [
                {
                    "data": {
                        "text/plain": "4334.0"
                    },
                    "execution_count": 32,
                    "metadata": {},
                    "output_type": "execute_result"
                }
            ],
            "source": "val = ppl_neighbourhood_df['City of Toronto'].values[0]\nval"
        },
        {
            "cell_type": "code",
            "execution_count": 33,
            "metadata": {},
            "outputs": [
                {
                    "data": {
                        "text/plain": "630.2"
                    },
                    "execution_count": 33,
                    "metadata": {},
                    "output_type": "execute_result"
                }
            ],
            "source": "val_2 = ppl_neighbourhood_df['City of Toronto'].values[1]\nval_2"
        },
        {
            "cell_type": "code",
            "execution_count": 34,
            "metadata": {},
            "outputs": [
                {
                    "data": {
                        "text/plain": "numpy.float64"
                    },
                    "execution_count": 34,
                    "metadata": {},
                    "output_type": "execute_result"
                }
            ],
            "source": "type(val)"
        },
        {
            "cell_type": "code",
            "execution_count": 35,
            "metadata": {},
            "outputs": [
                {
                    "data": {
                        "text/plain": "numpy.float64"
                    },
                    "execution_count": 35,
                    "metadata": {},
                    "output_type": "execute_result"
                }
            ],
            "source": "type(val_2)"
        },
        {
            "cell_type": "code",
            "execution_count": 36,
            "metadata": {},
            "outputs": [],
            "source": "#type(avg)"
        },
        {
            "cell_type": "code",
            "execution_count": 37,
            "metadata": {},
            "outputs": [],
            "source": "#avg_2 = ppl_neighbourhood_df.loc[:, 'City of Toronto':'Yorkdale-Glen Park']\n#avg_2.head()"
        },
        {
            "cell_type": "code",
            "execution_count": 38,
            "metadata": {},
            "outputs": [],
            "source": "#neighbourhood_num_df = avg_2.str.replace(\",\", \"\").astype(float)\n#neighbourhood_num_df.head()"
        },
        {
            "cell_type": "code",
            "execution_count": 39,
            "metadata": {},
            "outputs": [],
            "source": "#print(avg_2.dtypes)"
        },
        {
            "cell_type": "code",
            "execution_count": 40,
            "metadata": {},
            "outputs": [],
            "source": "#avg_2_num = avg_2.replace(',','', regex=True)"
        },
        {
            "cell_type": "code",
            "execution_count": 41,
            "metadata": {},
            "outputs": [],
            "source": "#avg_2_num.head()"
        },
        {
            "cell_type": "code",
            "execution_count": 42,
            "metadata": {},
            "outputs": [],
            "source": "#avg_2_num = avg_2.astype(float)\n\n#c = avg_2_num.select_dtypes(object).columns\n#avg_2_num[c] = avg_2_num[c].apply(pd.to_numeric,errors='coerce')"
        },
        {
            "cell_type": "code",
            "execution_count": 43,
            "metadata": {},
            "outputs": [
                {
                    "name": "stdout",
                    "output_type": "stream",
                    "text": "_id                                    int64\nCategory                              object\nTopic                                 object\nData Source                           object\nCharacteristic                        object\nCity of Toronto                      float64\nAgincourt North                      float64\nAgincourt South-Malvern West         float64\nAlderwood                            float64\nAnnex                                float64\nBanbury-Don Mills                    float64\nBathurst Manor                       float64\nBay Street Corridor                  float64\nBayview Village                      float64\nBayview Woods-Steeles                float64\nBedford Park-Nortown                 float64\nBeechborough-Greenbrook              float64\nBendale                              float64\nBirchcliffe-Cliffside                float64\nBlack Creek                          float64\nBlake-Jones                          float64\nBriar Hill-Belgravia                 float64\nBridle Path-Sunnybrook-York Mills    float64\nBroadview North                      float64\nBrookhaven-Amesbury                  float64\nCabbagetown-South St. James Town     float64\nCaledonia-Fairbank                   float64\nCasa Loma                            float64\nCentennial Scarborough               float64\nChurch-Yonge Corridor                float64\n                                      ...   \nSouth Riverdale                      float64\nSt.Andrew-Windfields                 float64\nSteeles                              float64\nStonegate-Queensway                  float64\nTam O'Shanter-Sullivan               float64\nTaylor-Massey                        float64\nThe Beaches                          float64\nThistletown-Beaumond Heights         float64\nThorncliffe Park                     float64\nTrinity-Bellwoods                    float64\nUniversity                           float64\nVictoria Village                     float64\nWaterfront Communities-The Island    float64\nWest Hill                            float64\nWest Humber-Clairville               float64\nWestminster-Branson                  float64\nWeston                               float64\nWeston-Pelham Park                   float64\nWexford/Maryvale                     float64\nWillowdale East                        int64\nWillowdale West                      float64\nWillowridge-Martingrove-Richview     float64\nWoburn                               float64\nWoodbine Corridor                    float64\nWoodbine-Lumsden                     float64\nWychwood                             float64\nYonge-Eglinton                       float64\nYonge-St.Clair                       float64\nYork University Heights              float64\nYorkdale-Glen Park                   float64\nLength: 146, dtype: object\n"
                }
            ],
            "source": "print(ppl_neighbourhood_df.dtypes)"
        },
        {
            "cell_type": "code",
            "execution_count": 44,
            "metadata": {},
            "outputs": [],
            "source": "#avg_2_num.head()"
        },
        {
            "cell_type": "code",
            "execution_count": 45,
            "metadata": {},
            "outputs": [],
            "source": "#avg_between = avg_2_num.loc[:, 'Agincourt North':'Yorkdale-Glen Park'].mean(axis=1)\n#print(avg_between)"
        },
        {
            "cell_type": "markdown",
            "metadata": {},
            "source": "### Visualization"
        },
        {
            "cell_type": "code",
            "execution_count": null,
            "metadata": {},
            "outputs": [],
            "source": ""
        },
        {
            "cell_type": "code",
            "execution_count": null,
            "metadata": {},
            "outputs": [],
            "source": ""
        }
    ],
    "metadata": {
        "kernelspec": {
            "display_name": "Python 3.6",
            "language": "python",
            "name": "python3"
        },
        "language_info": {
            "codemirror_mode": {
                "name": "ipython",
                "version": 3
            },
            "file_extension": ".py",
            "mimetype": "text/x-python",
            "name": "python",
            "nbconvert_exporter": "python",
            "pygments_lexer": "ipython3",
            "version": "3.6.9"
        }
    },
    "nbformat": 4,
    "nbformat_minor": 1
}