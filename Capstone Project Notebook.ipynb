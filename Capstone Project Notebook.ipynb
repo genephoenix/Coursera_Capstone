{
    "cells": [
        {
            "cell_type": "markdown",
            "metadata": {
                "collapsed": true
            },
            "source": "# Predicting the optimal placement of a hospital in a Toronto neighbourhood"
        },
        {
            "cell_type": "markdown",
            "metadata": {},
            "source": "## Table of Contents    \n  * [Introduction: Business Problem](#intro)\n  * [Data](#data)"
        },
        {
            "cell_type": "markdown",
            "metadata": {},
            "source": "## Introduction: Business Problem <a id=\"intro\"></a>"
        },
        {
            "cell_type": "markdown",
            "metadata": {},
            "source": "<p> \n    For this project we will be trying to determine the best possible location to open an additional medical centre/ hospital in the city of Toronto. This report will likely be of interest to the board of directors and stakeholders of the hospital in question. \n    \n</p>\n\n<p>\n    Our aim is to look for populated areas in neighbourhoods where there appears to be more young children and elderly present. Once those neighbourhoods have been found, we will then search the surrounding area for any other such health centres in the vicinity as we would like to construct the hospital in a distance far enough away from the others in an area where it would be most needed.\n    \n<p>\n\n<p>\n    Using this criteria and our purpose along with relevant data to provide support, we aim to share our findings and reasonings for our choices on where we would advise them to construct the health centre.\n    \n</p>"
        },
        {
            "cell_type": "markdown",
            "metadata": {},
            "source": "## Data <a id=\"data\"></a>"
        },
        {
            "cell_type": "markdown",
            "metadata": {},
            "source": "<p> \n    As mentioned above in the business problem, the factors that will influence our decision are:\n</p>\n      \n  * The number of hospitals/ health centres in the area\n  * The number of people in the area\n  * Ages of the constituents of the neighbourhood\n\n<p> We will be using the following data sources for our analysis:</p>\n\n  * **[Toronto neighbourhoods data](https://open.toronto.ca/dataset/neighbourhoods/)** - *Attribution: [Open Data Licence - Toronto](https://open.toronto.ca/open-data-license/); Contains information licensed under the Open Government Licence \u2013 Toronto* \n\nThis source will be used to obtain the initial neighbourhood profiles and their geographical coordinates\n\n  * **[Toronto neighbourhood profiles data](https://open.toronto.ca/dataset/neighbourhood-profiles/)** - *Attribution: [Open Data Licence - Toronto](https://open.toronto.ca/open-data-license/); Contains information licensed under the Open Government Licence \u2013 Toronto*\n  \nThis source will be used to determine the age of the constituents in their respective neighbourhoods\n\n  * **[Foursquare API](https://developer.foursquare.com/docs/)** \n\nThis API will be used to determine the location and number of hospitals in the Toronto area\n\n</p>"
        },
        {
            "cell_type": "code",
            "execution_count": null,
            "metadata": {},
            "outputs": [],
            "source": ""
        }
    ],
    "metadata": {
        "kernelspec": {
            "display_name": "Python 3.6",
            "language": "python",
            "name": "python3"
        },
        "language_info": {
            "codemirror_mode": {
                "name": "ipython",
                "version": 3
            },
            "file_extension": ".py",
            "mimetype": "text/x-python",
            "name": "python",
            "nbconvert_exporter": "python",
            "pygments_lexer": "ipython3",
            "version": "3.6.9"
        }
    },
    "nbformat": 4,
    "nbformat_minor": 1
}